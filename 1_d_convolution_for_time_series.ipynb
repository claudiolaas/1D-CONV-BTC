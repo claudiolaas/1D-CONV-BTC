{
  "nbformat": 4,
  "nbformat_minor": 0,
  "metadata": {
    "kernelspec": {
      "name": "python37764bitc254a71fff094687a1899cf78494764d",
      "display_name": "Python 3.7.7 64-bit",
      "language": "python"
    },
    "language_info": {
      "name": "python",
      "version": "3.7.7-final",
      "mimetype": "text/x-python",
      "codemirror_mode": {
        "name": "ipython",
        "version": 3
      },
      "pygments_lexer": "ipython3",
      "nbconvert_exporter": "python",
      "file_extension": ".py"
    },
    "colab": {
      "name": "1-d-convolution-for-time-series.ipynb",
      "provenance": [],
      "collapsed_sections": []
    },
    "accelerator": "GPU",
    "widgets": {
      "application/vnd.jupyter.widget-state+json": {
        "8df6c1c0fcba429ca1ca5de0ba7cba0b": {
          "model_module": "@jupyter-widgets/controls",
          "model_name": "HBoxModel",
          "state": {
            "_view_name": "HBoxView",
            "_dom_classes": [],
            "_model_name": "HBoxModel",
            "_view_module": "@jupyter-widgets/controls",
            "_model_module_version": "1.5.0",
            "_view_count": null,
            "_view_module_version": "1.5.0",
            "box_style": "",
            "layout": "IPY_MODEL_da1b6546006f46c397f79cf639a173a2",
            "_model_module": "@jupyter-widgets/controls",
            "children": [
              "IPY_MODEL_d8f6199fe65445d5bcbe3d3490a2d08b",
              "IPY_MODEL_ef622dfb02234b71ba5507ed538de89f"
            ]
          }
        },
        "da1b6546006f46c397f79cf639a173a2": {
          "model_module": "@jupyter-widgets/base",
          "model_name": "LayoutModel",
          "state": {
            "_view_name": "LayoutView",
            "grid_template_rows": null,
            "right": null,
            "justify_content": null,
            "_view_module": "@jupyter-widgets/base",
            "overflow": null,
            "_model_module_version": "1.2.0",
            "_view_count": null,
            "flex_flow": null,
            "width": null,
            "min_width": null,
            "border": null,
            "align_items": null,
            "bottom": null,
            "_model_module": "@jupyter-widgets/base",
            "top": null,
            "grid_column": null,
            "overflow_y": null,
            "overflow_x": null,
            "grid_auto_flow": null,
            "grid_area": null,
            "grid_template_columns": null,
            "flex": null,
            "_model_name": "LayoutModel",
            "justify_items": null,
            "grid_row": null,
            "max_height": null,
            "align_content": null,
            "visibility": null,
            "align_self": null,
            "height": null,
            "min_height": null,
            "padding": null,
            "grid_auto_rows": null,
            "grid_gap": null,
            "max_width": null,
            "order": null,
            "_view_module_version": "1.2.0",
            "grid_template_areas": null,
            "object_position": null,
            "object_fit": null,
            "grid_auto_columns": null,
            "margin": null,
            "display": null,
            "left": null
          }
        },
        "d8f6199fe65445d5bcbe3d3490a2d08b": {
          "model_module": "@jupyter-widgets/controls",
          "model_name": "FloatProgressModel",
          "state": {
            "_view_name": "ProgressView",
            "style": "IPY_MODEL_2b47825f08364c55a1cfe6efc20770b4",
            "_dom_classes": [],
            "description": "100%",
            "_model_name": "FloatProgressModel",
            "bar_style": "success",
            "max": 55,
            "_view_module": "@jupyter-widgets/controls",
            "_model_module_version": "1.5.0",
            "value": 55,
            "_view_count": null,
            "_view_module_version": "1.5.0",
            "orientation": "horizontal",
            "min": 0,
            "description_tooltip": null,
            "_model_module": "@jupyter-widgets/controls",
            "layout": "IPY_MODEL_3152a88a2ae84b2ab9342b55fd283b0d"
          }
        },
        "ef622dfb02234b71ba5507ed538de89f": {
          "model_module": "@jupyter-widgets/controls",
          "model_name": "HTMLModel",
          "state": {
            "_view_name": "HTMLView",
            "style": "IPY_MODEL_9892a5b2d95e4ab192495aa0b2dac019",
            "_dom_classes": [],
            "description": "",
            "_model_name": "HTMLModel",
            "placeholder": "​",
            "_view_module": "@jupyter-widgets/controls",
            "_model_module_version": "1.5.0",
            "value": " 55/55 [01:18&lt;00:00,  1.43s/it]",
            "_view_count": null,
            "_view_module_version": "1.5.0",
            "description_tooltip": null,
            "_model_module": "@jupyter-widgets/controls",
            "layout": "IPY_MODEL_7d99d1424adb462c8ac8a19746bddb9b"
          }
        },
        "2b47825f08364c55a1cfe6efc20770b4": {
          "model_module": "@jupyter-widgets/controls",
          "model_name": "ProgressStyleModel",
          "state": {
            "_view_name": "StyleView",
            "_model_name": "ProgressStyleModel",
            "description_width": "initial",
            "_view_module": "@jupyter-widgets/base",
            "_model_module_version": "1.5.0",
            "_view_count": null,
            "_view_module_version": "1.2.0",
            "bar_color": null,
            "_model_module": "@jupyter-widgets/controls"
          }
        },
        "3152a88a2ae84b2ab9342b55fd283b0d": {
          "model_module": "@jupyter-widgets/base",
          "model_name": "LayoutModel",
          "state": {
            "_view_name": "LayoutView",
            "grid_template_rows": null,
            "right": null,
            "justify_content": null,
            "_view_module": "@jupyter-widgets/base",
            "overflow": null,
            "_model_module_version": "1.2.0",
            "_view_count": null,
            "flex_flow": null,
            "width": null,
            "min_width": null,
            "border": null,
            "align_items": null,
            "bottom": null,
            "_model_module": "@jupyter-widgets/base",
            "top": null,
            "grid_column": null,
            "overflow_y": null,
            "overflow_x": null,
            "grid_auto_flow": null,
            "grid_area": null,
            "grid_template_columns": null,
            "flex": null,
            "_model_name": "LayoutModel",
            "justify_items": null,
            "grid_row": null,
            "max_height": null,
            "align_content": null,
            "visibility": null,
            "align_self": null,
            "height": null,
            "min_height": null,
            "padding": null,
            "grid_auto_rows": null,
            "grid_gap": null,
            "max_width": null,
            "order": null,
            "_view_module_version": "1.2.0",
            "grid_template_areas": null,
            "object_position": null,
            "object_fit": null,
            "grid_auto_columns": null,
            "margin": null,
            "display": null,
            "left": null
          }
        },
        "9892a5b2d95e4ab192495aa0b2dac019": {
          "model_module": "@jupyter-widgets/controls",
          "model_name": "DescriptionStyleModel",
          "state": {
            "_view_name": "StyleView",
            "_model_name": "DescriptionStyleModel",
            "description_width": "",
            "_view_module": "@jupyter-widgets/base",
            "_model_module_version": "1.5.0",
            "_view_count": null,
            "_view_module_version": "1.2.0",
            "_model_module": "@jupyter-widgets/controls"
          }
        },
        "7d99d1424adb462c8ac8a19746bddb9b": {
          "model_module": "@jupyter-widgets/base",
          "model_name": "LayoutModel",
          "state": {
            "_view_name": "LayoutView",
            "grid_template_rows": null,
            "right": null,
            "justify_content": null,
            "_view_module": "@jupyter-widgets/base",
            "overflow": null,
            "_model_module_version": "1.2.0",
            "_view_count": null,
            "flex_flow": null,
            "width": null,
            "min_width": null,
            "border": null,
            "align_items": null,
            "bottom": null,
            "_model_module": "@jupyter-widgets/base",
            "top": null,
            "grid_column": null,
            "overflow_y": null,
            "overflow_x": null,
            "grid_auto_flow": null,
            "grid_area": null,
            "grid_template_columns": null,
            "flex": null,
            "_model_name": "LayoutModel",
            "justify_items": null,
            "grid_row": null,
            "max_height": null,
            "align_content": null,
            "visibility": null,
            "align_self": null,
            "height": null,
            "min_height": null,
            "padding": null,
            "grid_auto_rows": null,
            "grid_gap": null,
            "max_width": null,
            "order": null,
            "_view_module_version": "1.2.0",
            "grid_template_areas": null,
            "object_position": null,
            "object_fit": null,
            "grid_auto_columns": null,
            "margin": null,
            "display": null,
            "left": null
          }
        }
      }
    }
  },
  "cells": [
    {
      "cell_type": "markdown",
      "metadata": {
        "_uuid": "8f2839f25d086af736a60e9eeb907d3b93b6e0e5",
        "_cell_guid": "b1076dfc-b9ad-4769-8c92-a6c4dae69d19",
        "trusted": true,
        "id": "fWspU0JmUhEJ",
        "colab_type": "text"
      },
      "source": [
        "## 1D Convolutions for Time Series Analysis\n"
      ]
    },
    {
      "cell_type": "code",
      "metadata": {
        "trusted": true,
        "id": "jRjbNz-zUhEN",
        "colab_type": "code",
        "colab": {}
      },
      "source": [
        "import os\n",
        "import torch\n",
        "import pandas as pd\n",
        "import numpy as np\n",
        "from torch.utils.data import Dataset, random_split, DataLoader\n",
        "from PIL import Image\n",
        "import torchvision.models as models\n",
        "import matplotlib.pyplot as plt\n",
        "import torchvision.transforms as transforms\n",
        "from sklearn.metrics import f1_score\n",
        "import torch.nn.functional as F\n",
        "import torch.nn as nn\n",
        "from torch.utils.data import TensorDataset, DataLoader\n",
        "from torchvision.utils import make_grid\n",
        "from ipywidgets import IntProgress, FloatProgress\n",
        "%matplotlib qt"
      ],
      "execution_count": 23,
      "outputs": []
    },
    {
      "cell_type": "markdown",
      "metadata": {
        "_uuid": "d629ff2d2480ee46fbb7e2d37f6b5fab8052498a",
        "collapsed": true,
        "_cell_guid": "79c7e3d0-c299-4dcb-8224-4455121ee9b0",
        "trusted": false,
        "id": "TyCboW6zUhEh",
        "colab_type": "text"
      },
      "source": [
        "## Exploring the Data\n",
        "Lets upload the time series data which I have scraped from www.bitcoincharts.com\n"
      ]
    },
    {
      "cell_type": "code",
      "metadata": {
        "trusted": true,
        "id": "IwrbmYedUhE0",
        "colab_type": "code",
        "colab": {}
      },
      "source": [
        "df = pd.read_csv('btc_clean.csv')\n",
        "df.head()\n"
      ],
      "execution_count": 27,
      "outputs": [
        {
          "output_type": "execute_result",
          "data": {
            "text/plain": "   Unnamed: 0  index            Timestamp     Open     High      Low    Close  \\\n0           0      0  2020-03-23 00:00:00  5816.57  5824.12  5777.31  5797.57   \n1           1      1  2020-03-23 00:01:00  5797.57  5797.57  5783.38  5792.68   \n2           2      2  2020-03-23 00:02:00  5788.00  5792.71  5693.16  5693.16   \n3           3      3  2020-03-23 00:03:00  5693.16  5860.00  5686.34  5843.15   \n4           4      4  2020-03-23 00:04:00  5856.42  5859.98  5768.77  5809.70   \n\n   Volume (BTC)  Volume (Currency)  Weighted Price  \n0         42.10          243958.82         5794.81  \n1          4.20           24324.38         5789.15  \n2         97.88          560931.90         5730.97  \n3        143.37          830444.75         5792.38  \n4         72.85          423209.54         5809.01  ",
            "text/html": "<div>\n<style scoped>\n    .dataframe tbody tr th:only-of-type {\n        vertical-align: middle;\n    }\n\n    .dataframe tbody tr th {\n        vertical-align: top;\n    }\n\n    .dataframe thead th {\n        text-align: right;\n    }\n</style>\n<table border=\"1\" class=\"dataframe\">\n  <thead>\n    <tr style=\"text-align: right;\">\n      <th></th>\n      <th>Unnamed: 0</th>\n      <th>index</th>\n      <th>Timestamp</th>\n      <th>Open</th>\n      <th>High</th>\n      <th>Low</th>\n      <th>Close</th>\n      <th>Volume (BTC)</th>\n      <th>Volume (Currency)</th>\n      <th>Weighted Price</th>\n    </tr>\n  </thead>\n  <tbody>\n    <tr>\n      <th>0</th>\n      <td>0</td>\n      <td>0</td>\n      <td>2020-03-23 00:00:00</td>\n      <td>5816.57</td>\n      <td>5824.12</td>\n      <td>5777.31</td>\n      <td>5797.57</td>\n      <td>42.10</td>\n      <td>243958.82</td>\n      <td>5794.81</td>\n    </tr>\n    <tr>\n      <th>1</th>\n      <td>1</td>\n      <td>1</td>\n      <td>2020-03-23 00:01:00</td>\n      <td>5797.57</td>\n      <td>5797.57</td>\n      <td>5783.38</td>\n      <td>5792.68</td>\n      <td>4.20</td>\n      <td>24324.38</td>\n      <td>5789.15</td>\n    </tr>\n    <tr>\n      <th>2</th>\n      <td>2</td>\n      <td>2</td>\n      <td>2020-03-23 00:02:00</td>\n      <td>5788.00</td>\n      <td>5792.71</td>\n      <td>5693.16</td>\n      <td>5693.16</td>\n      <td>97.88</td>\n      <td>560931.90</td>\n      <td>5730.97</td>\n    </tr>\n    <tr>\n      <th>3</th>\n      <td>3</td>\n      <td>3</td>\n      <td>2020-03-23 00:03:00</td>\n      <td>5693.16</td>\n      <td>5860.00</td>\n      <td>5686.34</td>\n      <td>5843.15</td>\n      <td>143.37</td>\n      <td>830444.75</td>\n      <td>5792.38</td>\n    </tr>\n    <tr>\n      <th>4</th>\n      <td>4</td>\n      <td>4</td>\n      <td>2020-03-23 00:04:00</td>\n      <td>5856.42</td>\n      <td>5859.98</td>\n      <td>5768.77</td>\n      <td>5809.70</td>\n      <td>72.85</td>\n      <td>423209.54</td>\n      <td>5809.01</td>\n    </tr>\n  </tbody>\n</table>\n</div>"
          },
          "metadata": {},
          "execution_count": 27
        }
      ]
    },
    {
      "cell_type": "markdown",
      "metadata": {
        "id": "KvihBDDgWV9Y",
        "colab_type": "text"
      },
      "source": [
        "## Creating labels \n",
        "\n",
        "We have to differentiate between two cases:\n",
        "1. The current price is higher than the last X prices and also higher than the next X prices (time to sell)\n",
        "2. The current price is lower than the last X prices and also lower than the next X prices (time to buy)\n",
        "\n",
        "\n",
        "Ideally we want a oscilator that tells us how close we are to either of the two cases e.g. \"0.98 --> sell and 0.12 --> buy\" or something similar.\n",
        "\n",
        "To achieve this we employ two centered moving window calculations."
      ]
    },
    {
      "cell_type": "code",
      "metadata": {
        "trusted": true,
        "id": "Bs_sdoslUhFq",
        "colab_type": "code",
        "colab": {}
      },
      "source": [
        "wnd = 500\n",
        "df['low'] = df['Close'].rolling(window=wnd,center=True).min()\n",
        "df['high'] = df['Close'].rolling(window=wnd,center=True).max()\n",
        "\n",
        "df['span'] = df['high'] - df['low'] \n",
        "df['val'] = df['Close'] - df['low'] # if Close is equal to the low of the last 50 and future 50 prices, val will turn\n",
        "df['ratio'] = df['val'] / df['span'] \n",
        "df['ratio'] = df['ratio'].rolling(window=10,center=True).mean()"
      ],
      "execution_count": 28,
      "outputs": []
    },
    {
      "cell_type": "code",
      "execution_count": 29,
      "metadata": {},
      "outputs": [
        {
          "output_type": "execute_result",
          "data": {
            "text/plain": "[<matplotlib.lines.Line2D at 0x19fd4ce2748>]"
          },
          "metadata": {},
          "execution_count": 29
        }
      ],
      "source": [
        "%matplotlib qt\n",
        "fig, (ax1,ax2) = plt.subplots(2,1,sharex=True)\n",
        "ax1.plot(df['Close'])\n",
        "ax2.plot(df['ratio'])"
      ]
    },
    {
      "cell_type": "markdown",
      "metadata": {
        "colab_type": "text",
        "id": "fPpBmZclXSqE"
      },
      "source": [
        "Lets limit our DataFrame to only the essential columns and crop out the beginning and the end which contains NaN values due to the rolling windows and save to numpy arrays\n"
      ]
    },
    {
      "cell_type": "code",
      "metadata": {
        "id": "DlkKHg6xWw66",
        "colab_type": "code",
        "colab": {}
      },
      "source": [
        "cutoff = int((wnd/2)+5)\n",
        "df = df[['Open','High','Low','Close','Volume (Currency)','ratio']][cutoff:len(df)-cutoff].reset_index(drop=True) # wnd/2 + 10/2 = 55\n",
        "inputs = df[['Open','High','Low','Close','Volume (Currency)']].values\n",
        "targets = df['ratio'].values\n"
      ],
      "execution_count": 39,
      "outputs": []
    },
    {
      "cell_type": "code",
      "metadata": {
        "id": "8fBqR-sQisZT",
        "colab_type": "code",
        "colab": {
          "base_uri": "https://localhost:8080/",
          "height": 36
        },
        "outputId": "fb25a489-b525-4d67-e92d-05c1fd21cc6f"
      },
      "source": [
        "len(df)"
      ],
      "execution_count": 40,
      "outputs": [
        {
          "output_type": "execute_result",
          "data": {
            "text/plain": "56694"
          },
          "metadata": {},
          "execution_count": 40
        }
      ]
    },
    {
      "cell_type": "markdown",
      "metadata": {
        "id": "tfcQfayXUhGK",
        "colab_type": "text"
      },
      "source": [
        "## Creating Datasets & Data Loaders\n",
        "\n",
        "We can now create a dataset by using the TensorDataset Function. As we are not working with images but with \"raw\" data point we can create our input sample with a loop. (maybe not the most pretty way of doing it but we only have to do it once)\n",
        "\n",
        "In the same step we also normalize the inputs. As we are working with sequential Data we have to normalize per sample and not over the entire data set.\n",
        "\n",
        "The lookback variable defines how many past data points we want to feed into our model to predict the oscilator."
      ]
    },
    {
      "cell_type": "code",
      "metadata": {
        "id": "6nBJlsTJY18z",
        "colab_type": "code",
        "colab": {}
      },
      "source": [
        "lookback = 500\n",
        "inputs_list = []\n",
        "for x in range(lookback,len(inputs)):\n",
        "    inp = inputs[x-lookback:x]\n",
        "    inp = np.moveaxis(inp, -1, 0) # Channels should come first\n",
        "    inputs_list.append(inp)"
      ],
      "execution_count": 96,
      "outputs": []
    },
    {
      "cell_type": "code",
      "metadata": {
        "id": "QbBgz4LIjY0e",
        "colab_type": "code",
        "colab": {}
      },
      "source": [
        "\n",
        "targets_list = []\n",
        "for x in range(lookback,len(targets)):\n",
        "    target = targets[x]\n",
        "    targets_list.append(target)"
      ],
      "execution_count": 97,
      "outputs": []
    },
    {
      "cell_type": "markdown",
      "metadata": {
        "id": "dDmQBGzCmdGG",
        "colab_type": "text"
      },
      "source": [
        "## Normalization"
      ]
    },
    {
      "cell_type": "code",
      "metadata": {
        "id": "rPSelH8xjqZv",
        "colab_type": "code",
        "colab": {}
      },
      "source": [
        "inputs_normalized = []\n",
        "for arr in inputs_list:\n",
        "    mean = np.mean(arr, axis=1)\n",
        "    var = np.std(arr,axis=1)\n",
        "    means_vec = mean.reshape((5, 1))\n",
        "    var_vec = var.reshape((5, 1))\n",
        "    arr = arr - means_vec\n",
        "    arr = arr / var_vec\n",
        "    inputs_normalized.append(arr)\n",
        "\n",
        "# inputs_normalized[0]\n",
        "  "
      ],
      "execution_count": 98,
      "outputs": []
    },
    {
      "cell_type": "code",
      "metadata": {
        "id": "6MnRcDzJmoqR",
        "colab_type": "code",
        "colab": {
          "base_uri": "https://localhost:8080/",
          "height": 36
        },
        "outputId": "5dd602b6-c78b-4418-f323-25e764a43a60"
      },
      "source": [
        "len(targets_list)"
      ],
      "execution_count": 99,
      "outputs": [
        {
          "output_type": "execute_result",
          "data": {
            "text/plain": "56194"
          },
          "metadata": {},
          "execution_count": 99
        }
      ]
    },
    {
      "cell_type": "markdown",
      "metadata": {
        "id": "ws94gGENmhC0",
        "colab_type": "text"
      },
      "source": [
        "## Creating the Dataset\n",
        "\n",
        "The dataset has 55694 samples and we will hold out 5694 samples for testing."
      ]
    },
    {
      "cell_type": "code",
      "metadata": {
        "id": "g9bscNFDas-3",
        "colab_type": "code",
        "colab": {}
      },
      "source": [
        "batch_size= 10\n",
        "tensor_x = torch.Tensor(inputs_normalized[:50000]) # transform to torch tensor \n",
        "tensor_y = torch.Tensor(targets_list[:50000]).view(-1,1)\n",
        "my_dataset = TensorDataset(tensor_x,tensor_y) # create your datset\n"
      ],
      "execution_count": 100,
      "outputs": []
    },
    {
      "cell_type": "code",
      "metadata": {
        "trusted": true,
        "id": "bwm96DuxUhGV",
        "colab_type": "code",
        "colab": {
          "base_uri": "https://localhost:8080/",
          "height": 36
        },
        "outputId": "e2040ebc-e4a9-4bbf-be7f-05e18f835885"
      },
      "source": [
        "val_pct = 0.1\n",
        "val_size = int(val_pct * len(my_dataset))\n",
        "train_size = len(my_dataset) - val_size\n",
        "\n",
        "train_ds, val_ds = random_split(my_dataset, [train_size, val_size])\n",
        "len(train_ds), len(val_ds)"
      ],
      "execution_count": 101,
      "outputs": [
        {
          "output_type": "execute_result",
          "data": {
            "text/plain": "(45000, 5000)"
          },
          "metadata": {},
          "execution_count": 101
        }
      ]
    },
    {
      "cell_type": "code",
      "metadata": {
        "id": "yls_WGIeo52I",
        "colab_type": "code",
        "colab": {}
      },
      "source": [
        "train_loader = DataLoader(train_ds, batch_size, shuffle=True, num_workers=2, pin_memory=True)\n",
        "val_loader = DataLoader(val_ds, batch_size, num_workers=2, pin_memory=True)"
      ],
      "execution_count": 102,
      "outputs": []
    },
    {
      "cell_type": "markdown",
      "metadata": {},
      "source": [
        "As you can see below we have 128 samples with 5 \"color chanels\" which are the different price series(open, high, low, close, volume)"
      ]
    },
    {
      "cell_type": "code",
      "metadata": {
        "id": "ayaLjcca0ZCr",
        "colab_type": "code",
        "colab": {
          "base_uri": "https://localhost:8080/",
          "height": 54
        },
        "outputId": "52f088c8-687f-4c9d-cc1a-5729a4f3fa1a",
        "tags": []
      },
      "source": [
        "for batch in train_loader:\n",
        "  print(batch[0].size())\n",
        "  print(batch[1].size())\n",
        "  break"
      ],
      "execution_count": 103,
      "outputs": [
        {
          "output_type": "stream",
          "name": "stdout",
          "text": "torch.Size([10, 5, 500])\ntorch.Size([10, 1])\n"
        }
      ]
    },
    {
      "cell_type": "markdown",
      "metadata": {},
      "source": [
        "## Creating the Model\n",
        "\n",
        "The following setup is taken from a Pytorch Tutorial/ Course on Image classification.\n",
        "The Architecture is very simple just to get started.\n",
        "\n"
      ]
    },
    {
      "cell_type": "code",
      "metadata": {
        "id": "mxvaw2zjpXzB",
        "colab_type": "code",
        "colab": {}
      },
      "source": [
        "class TimeSeriesBase(nn.Module):\n",
        "    def training_step(self, batch):\n",
        "        images, targets = batch \n",
        "        out = self(images)                      \n",
        "        loss = F.l1_loss(out, targets)      \n",
        "        return loss\n",
        "    \n",
        "    def validation_step(self, batch):\n",
        "        images, targets = batch \n",
        "        out = self(images)                           # Generate predictions\n",
        "        loss = F.l1_loss(out, targets)               # Calculate loss\n",
        "        return {'val_loss': loss.detach() }\n",
        "\n",
        "    def validation_epoch_end(self, outputs):\n",
        "        batch_losses = [x['val_loss'] for x in outputs]\n",
        "        epoch_loss = torch.stack(batch_losses).mean()   # Combine losses\n",
        "        return {'val_loss': epoch_loss.item()}\n",
        "    \n",
        "    def epoch_end(self, epoch, result):\n",
        "        print(\"Epoch [{}], train_loss: {:.4f}, val_loss: {:.4f}\".format(\n",
        "            epoch, result['train_loss'], result['val_loss']))\n",
        "\n",
        "class BTCModel(TimeSeriesBase):\n",
        "    def __init__(self):\n",
        "        super().__init__()\n",
        "        self.network = nn.Sequential(\n",
        "            nn.Conv1d(5, 10, kernel_size=3, stride=1, padding=1),\n",
        "            nn.ReLU(),\n",
        "            nn.MaxPool1d(2),\n",
        "\n",
        "            nn.Conv1d(10, 50, kernel_size=3, stride=1, padding=1),\n",
        "            nn.ReLU(),\n",
        "            nn.MaxPool1d(2),\n",
        "\n",
        "            nn.Conv1d(50, 10, kernel_size=3, stride=1, padding=1),\n",
        "            nn.ReLU(),\n",
        "            nn.AdaptiveAvgPool1d(1),\n",
        "\n",
        "            nn.Flatten(), \n",
        "            nn.Linear(10, 1)\n",
        "\n",
        "        )\n",
        "        \n",
        "    def forward(self, xb):\n",
        "        return self.network(xb)\n",
        "\n"
      ],
      "execution_count": 104,
      "outputs": []
    },
    {
      "cell_type": "code",
      "metadata": {
        "id": "78GSiamhtM4L",
        "colab_type": "code",
        "colab": {
          "base_uri": "https://localhost:8080/",
          "height": 295
        },
        "outputId": "54df7ed7-f105-49f0-ec44-d7006cb0071c"
      },
      "source": [
        "model = BTCModel()\n",
        "model\n"
      ],
      "execution_count": 105,
      "outputs": [
        {
          "output_type": "execute_result",
          "data": {
            "text/plain": "BTCModel(\n  (network): Sequential(\n    (0): Conv1d(5, 10, kernel_size=(3,), stride=(1,), padding=(1,))\n    (1): ReLU()\n    (2): MaxPool1d(kernel_size=2, stride=2, padding=0, dilation=1, ceil_mode=False)\n    (3): Conv1d(10, 50, kernel_size=(3,), stride=(1,), padding=(1,))\n    (4): ReLU()\n    (5): MaxPool1d(kernel_size=2, stride=2, padding=0, dilation=1, ceil_mode=False)\n    (6): Conv1d(50, 10, kernel_size=(3,), stride=(1,), padding=(1,))\n    (7): ReLU()\n    (8): AdaptiveAvgPool1d(output_size=1)\n    (9): Flatten()\n    (10): Linear(in_features=10, out_features=1, bias=True)\n  )\n)"
          },
          "metadata": {},
          "execution_count": 105
        }
      ]
    },
    {
      "cell_type": "markdown",
      "metadata": {},
      "source": [
        "### Some more helper functions"
      ]
    },
    {
      "cell_type": "code",
      "metadata": {
        "trusted": true,
        "id": "ObTl9DxUUhIJ",
        "colab_type": "code",
        "colab": {}
      },
      "source": [
        "def get_default_device():\n",
        "    \"\"\"Pick GPU if available, else CPU\"\"\"\n",
        "    if torch.cuda.is_available():\n",
        "        return torch.device('cuda')\n",
        "    else:\n",
        "        return torch.device('cpu')\n",
        "    \n",
        "def to_device(data, device):\n",
        "    \"\"\"Move tensor(s) to chosen device\"\"\"\n",
        "    if isinstance(data, (list,tuple)):\n",
        "        return [to_device(x, device) for x in data]\n",
        "    return data.to(device, non_blocking=True)\n",
        "\n",
        "class DeviceDataLoader():\n",
        "    \"\"\"Wrap a dataloader to move data to a device\"\"\"\n",
        "    def __init__(self, dl, device):\n",
        "        self.dl = dl\n",
        "        self.device = device\n",
        "        \n",
        "    def __iter__(self):\n",
        "        \"\"\"Yield a batch of data after moving it to device\"\"\"\n",
        "        for b in self.dl: \n",
        "            yield to_device(b, self.device)\n",
        "\n",
        "    def __len__(self):\n",
        "        \"\"\"Number of batches\"\"\"\n",
        "        return len(self.dl)"
      ],
      "execution_count": 106,
      "outputs": []
    },
    {
      "cell_type": "code",
      "metadata": {
        "trusted": true,
        "id": "d9543i9tUhIQ",
        "colab_type": "code",
        "colab": {
          "base_uri": "https://localhost:8080/",
          "height": 36
        },
        "outputId": "98aa1cff-afbe-438b-ba17-f01375682131"
      },
      "source": [
        "device = get_default_device()\n",
        "device"
      ],
      "execution_count": 107,
      "outputs": [
        {
          "output_type": "execute_result",
          "data": {
            "text/plain": "device(type='cpu')"
          },
          "metadata": {},
          "execution_count": 107
        }
      ]
    },
    {
      "cell_type": "code",
      "metadata": {
        "trusted": true,
        "id": "4G9TxDr9UhIW",
        "colab_type": "code",
        "colab": {
          "base_uri": "https://localhost:8080/",
          "height": 295
        },
        "outputId": "47b2d1b4-11d5-4404-dd2f-04db9e1c668b"
      },
      "source": [
        "train_dl = DeviceDataLoader(train_loader, device)\n",
        "val_dl = DeviceDataLoader(val_loader, device)\n",
        "to_device(model, device)"
      ],
      "execution_count": 108,
      "outputs": [
        {
          "output_type": "execute_result",
          "data": {
            "text/plain": "BTCModel(\n  (network): Sequential(\n    (0): Conv1d(5, 10, kernel_size=(3,), stride=(1,), padding=(1,))\n    (1): ReLU()\n    (2): MaxPool1d(kernel_size=2, stride=2, padding=0, dilation=1, ceil_mode=False)\n    (3): Conv1d(10, 50, kernel_size=(3,), stride=(1,), padding=(1,))\n    (4): ReLU()\n    (5): MaxPool1d(kernel_size=2, stride=2, padding=0, dilation=1, ceil_mode=False)\n    (6): Conv1d(50, 10, kernel_size=(3,), stride=(1,), padding=(1,))\n    (7): ReLU()\n    (8): AdaptiveAvgPool1d(output_size=1)\n    (9): Flatten()\n    (10): Linear(in_features=10, out_features=1, bias=True)\n  )\n)"
          },
          "metadata": {},
          "execution_count": 108
        }
      ]
    },
    {
      "cell_type": "code",
      "metadata": {
        "trusted": true,
        "id": "QWY4aU4nUhIb",
        "colab_type": "code",
        "colab": {
          "base_uri": "https://localhost:8080/",
          "height": 73
        },
        "outputId": "d203094f-5e2c-477a-fceb-2b7a714e2469",
        "tags": []
      },
      "source": [
        "def try_batch(dl):\n",
        "    for images, labels in dl:\n",
        "        print('images.shape:', images.shape)\n",
        "        out = model(images)\n",
        "        print('out.shape:', out.shape)\n",
        "        print('out[0]:', out[0])\n",
        "        break\n",
        "\n",
        "try_batch(train_dl)"
      ],
      "execution_count": 109,
      "outputs": [
        {
          "output_type": "stream",
          "name": "stdout",
          "text": "images.shape: torch.Size([10, 5, 500])\nout.shape: torch.Size([10, 1])\nout[0]: tensor([-0.2730], grad_fn=<SelectBackward>)\n"
        }
      ]
    },
    {
      "cell_type": "markdown",
      "metadata": {
        "id": "tH0TSppfUhIi",
        "colab_type": "text"
      },
      "source": [
        "## Training the model"
      ]
    },
    {
      "cell_type": "code",
      "metadata": {
        "trusted": true,
        "id": "TuiiT_lgUhIj",
        "colab_type": "code",
        "colab": {}
      },
      "source": [
        "from tqdm.notebook import tqdm"
      ],
      "execution_count": 110,
      "outputs": []
    },
    {
      "cell_type": "code",
      "metadata": {
        "trusted": true,
        "id": "qZs_IIsxUhIm",
        "colab_type": "code",
        "colab": {}
      },
      "source": [
        "@torch.no_grad()\n",
        "def evaluate(model, val_loader):\n",
        "    model.eval()\n",
        "    outputs = [model.validation_step(batch) for batch in val_loader]\n",
        "    return model.validation_epoch_end(outputs)\n",
        "\n",
        "def fit(epochs, lr, model, train_loader, val_loader, opt_func=torch.optim.SGD):\n",
        "    torch.cuda.empty_cache()\n",
        "    history = []\n",
        "    optimizer = opt_func(model.parameters(), lr)\n",
        "    for epoch in range(epochs):\n",
        "        # Training Phase \n",
        "        model.train()\n",
        "        train_losses = []\n",
        "        for batch in train_loader:\n",
        "            loss = model.training_step(batch)\n",
        "            train_losses.append(loss)\n",
        "            loss.backward()\n",
        "            optimizer.step()\n",
        "            optimizer.zero_grad()\n",
        "        # Validation phase\n",
        "        result = evaluate(model, val_loader)\n",
        "        result['train_loss'] = torch.stack(train_losses).mean().item()\n",
        "        model.epoch_end(epoch, result)\n",
        "        history.append(result)\n",
        "    return history"
      ],
      "execution_count": 111,
      "outputs": []
    },
    {
      "cell_type": "code",
      "metadata": {
        "trusted": true,
        "id": "7VO5G7uyUhIr",
        "colab_type": "code",
        "colab": {}
      },
      "source": [
        "model = to_device(model, device)"
      ],
      "execution_count": 112,
      "outputs": []
    },
    {
      "cell_type": "code",
      "metadata": {
        "trusted": true,
        "id": "NA6kKjr9UhIw",
        "colab_type": "code",
        "colab": {
          "base_uri": "https://localhost:8080/",
          "height": 36
        },
        "outputId": "809b14e4-aebf-44e8-c19e-7d3e60f1e3e0"
      },
      "source": [
        "evaluate(model, val_dl)"
      ],
      "execution_count": 113,
      "outputs": [
        {
          "output_type": "execute_result",
          "data": {
            "text/plain": "{'val_loss': 0.7665244340896606}"
          },
          "metadata": {},
          "execution_count": 113
        }
      ]
    },
    {
      "cell_type": "code",
      "metadata": {
        "trusted": true,
        "id": "Dp2neh3dUhIz",
        "colab_type": "code",
        "colab": {}
      },
      "source": [
        "num_epochs = 10\n",
        "opt_func = torch.optim.Adam\n",
        "lr = 1e-6"
      ],
      "execution_count": 118,
      "outputs": []
    },
    {
      "cell_type": "code",
      "metadata": {
        "trusted": true,
        "id": "sc2WgUa8UhI3",
        "colab_type": "code",
        "colab": {
          "base_uri": "https://localhost:8080/",
          "height": 202
        },
        "outputId": "7fdcc9c9-cb5c-45a8-8119-456f808721b8",
        "tags": []
      },
      "source": [
        "history = fit(num_epochs, lr, model, train_dl, val_dl, opt_func)"
      ],
      "execution_count": 119,
      "outputs": [
        {
          "output_type": "stream",
          "name": "stdout",
          "text": "Epoch [0], train_loss: 0.6806, val_loss: 0.6603\nEpoch [1], train_loss: 0.6417, val_loss: 0.6141\nEpoch [2], train_loss: 0.5867, val_loss: 0.5492\nEpoch [3], train_loss: 0.5097, val_loss: 0.4589\nEpoch [4], train_loss: 0.4057, val_loss: 0.3435\nEpoch [5], train_loss: 0.2892, val_loss: 0.2373\nEpoch [6], train_loss: 0.2099, val_loss: 0.1935\nEpoch [7], train_loss: 0.1899, val_loss: 0.1901\nEpoch [8], train_loss: 0.1886, val_loss: 0.1901\nEpoch [9], train_loss: 0.1886, val_loss: 0.1901\n"
        }
      ]
    },
    {
      "cell_type": "markdown",
      "metadata": {
        "id": "71GdCEGfUhI8",
        "colab_type": "text"
      },
      "source": [
        "## Making predictions \n",
        "\n",
        "create the test set"
      ]
    },
    {
      "cell_type": "code",
      "metadata": {
        "id": "2ThORV2J9_pv",
        "colab_type": "code",
        "colab": {}
      },
      "source": [
        "batch_size= 10\n",
        "test_x = torch.Tensor(inputs_normalized[50000:]) # transform to torch tensor \n",
        "test_y = torch.Tensor(targets_list[50000:]).view(-1,1)\n",
        "test_set = TensorDataset(test_x,test_y) # create your datset"
      ],
      "execution_count": 121,
      "outputs": []
    },
    {
      "cell_type": "code",
      "metadata": {
        "id": "xcDUagZTBOqd",
        "colab_type": "code",
        "colab": {
          "base_uri": "https://localhost:8080/",
          "height": 36
        },
        "outputId": "799c625f-8dd5-46f9-83de-ab23e65f36b5"
      },
      "source": [
        "len(test_set)"
      ],
      "execution_count": 122,
      "outputs": [
        {
          "output_type": "execute_result",
          "data": {
            "text/plain": "6194"
          },
          "metadata": {},
          "execution_count": 122
        }
      ]
    },
    {
      "cell_type": "code",
      "metadata": {
        "trusted": true,
        "id": "qCcH3ZCIUhJ0",
        "colab_type": "code",
        "colab": {}
      },
      "source": [
        "test_dl = DeviceDataLoader(DataLoader(test_set, batch_size, num_workers=2, pin_memory=True), device)"
      ],
      "execution_count": 123,
      "outputs": []
    },
    {
      "cell_type": "code",
      "metadata": {
        "trusted": true,
        "id": "i-vUlDq_UhJ8",
        "colab_type": "code",
        "colab": {}
      },
      "source": [
        "@torch.no_grad()\n",
        "def predict_dl(dl, model):\n",
        "    torch.cuda.empty_cache()\n",
        "    batch_probs = []\n",
        "    for xb, _ in tqdm(dl):\n",
        "        probs = model(xb)\n",
        "        batch_probs.append(probs.cpu().detach())\n",
        "    batch_probs = torch.cat(batch_probs)\n",
        "    return batch_probs"
      ],
      "execution_count": 124,
      "outputs": []
    },
    {
      "cell_type": "code",
      "metadata": {
        "trusted": true,
        "id": "yFW_7WJDUhKE",
        "colab_type": "code",
        "colab": {
          "base_uri": "https://localhost:8080/",
          "height": 86,
          "referenced_widgets": [
            "8df6c1c0fcba429ca1ca5de0ba7cba0b",
            "da1b6546006f46c397f79cf639a173a2",
            "d8f6199fe65445d5bcbe3d3490a2d08b",
            "ef622dfb02234b71ba5507ed538de89f",
            "2b47825f08364c55a1cfe6efc20770b4",
            "3152a88a2ae84b2ab9342b55fd283b0d",
            "9892a5b2d95e4ab192495aa0b2dac019",
            "7d99d1424adb462c8ac8a19746bddb9b"
          ]
        },
        "outputId": "68e5de46-2bce-43d0-e4fc-8fd91bb76660",
        "tags": []
      },
      "source": [
        "test_preds = predict_dl(test_dl, model)\n",
        "len(test_preds)"
      ],
      "execution_count": 125,
      "outputs": [
        {
          "output_type": "display_data",
          "data": {
            "text/plain": "HBox(children=(FloatProgress(value=0.0, max=620.0), HTML(value='')))",
            "application/vnd.jupyter.widget-view+json": {
              "version_major": 2,
              "version_minor": 0,
              "model_id": "78f24fc6764849f1afaf7e766c37b37f"
            }
          },
          "metadata": {}
        },
        {
          "output_type": "stream",
          "name": "stdout",
          "text": "\n"
        },
        {
          "output_type": "execute_result",
          "data": {
            "text/plain": "6194"
          },
          "metadata": {},
          "execution_count": 125
        }
      ]
    },
    {
      "cell_type": "code",
      "metadata": {
        "id": "Yed8TKHAB959",
        "colab_type": "code",
        "colab": {
          "base_uri": "https://localhost:8080/",
          "height": 36
        },
        "outputId": "0d908b39-0075-49dd-952a-dc59c48a6d39"
      },
      "source": [
        "test_preds.size()"
      ],
      "execution_count": 126,
      "outputs": [
        {
          "output_type": "execute_result",
          "data": {
            "text/plain": "torch.Size([6194, 1])"
          },
          "metadata": {},
          "execution_count": 126
        }
      ]
    },
    {
      "cell_type": "markdown",
      "metadata": {
        "id": "YdVtN_fJCghC",
        "colab_type": "text"
      },
      "source": [
        "### Maping the predinctions to the orignial dataframe\n",
        "\n",
        "First, we isolate only the test portion of our original Dataframe. \n",
        "\n",
        "The entries from 50000 to the end contain our test results but we have to exclude the first 200 of those because of our 200 time step lookback window. This isolated test portion of the Dataframe must be exactly as long as the predictions from our model. \n",
        "len(test_df) must be equal len(test_preds)"
      ]
    },
    {
      "cell_type": "code",
      "execution_count": 128,
      "metadata": {},
      "outputs": [
        {
          "output_type": "execute_result",
          "data": {
            "text/plain": "(6194, 6194)"
          },
          "metadata": {},
          "execution_count": 128
        }
      ],
      "source": [
        "test_df = df[50500:]\n",
        "len(test_df),len(test_preds)"
      ]
    },
    {
      "cell_type": "markdown",
      "metadata": {},
      "source": [
        "Looks good!\n",
        "\n",
        "Next, we create a new columne 'preds' that contains the predicted buy/sell signal."
      ]
    },
    {
      "cell_type": "code",
      "metadata": {
        "id": "ds0FuPs1_umF",
        "colab_type": "code",
        "colab": {
          "base_uri": "https://localhost:8080/",
          "height": 148
        },
        "outputId": "0cf4078e-3c00-4b82-9cf0-866d52c7cbe0"
      },
      "source": [
        "test_df['preds']= test_preds[:,0]"
      ],
      "execution_count": 129,
      "outputs": []
    },
    {
      "cell_type": "markdown",
      "metadata": {
        "colab": {},
        "colab_type": "code",
        "id": "0lmy-TUSDGVG"
      },
      "source": [
        "Lets plot what we got. The predictions seem to oscilate between 0.525 and 0.450. Closer to 0 means 'buy!' and closer to 1 means 'sell!'"
      ]
    },
    {
      "cell_type": "code",
      "metadata": {
        "id": "jAnkq7W-CdRZ",
        "colab_type": "code",
        "colab": {
          "base_uri": "https://localhost:8080/",
          "height": 284
        },
        "outputId": "dfaae2ec-db41-487c-d415-f388e60f89b9"
      },
      "source": [
        "%matplotlib qt\n",
        "fig, (ax1,ax2) = plt.subplots(2,1,sharex=True)\n",
        "ax1.plot(test_df['Close'])\n",
        "ax2.plot(test_df['preds'])"
      ],
      "execution_count": 130,
      "outputs": [
        {
          "output_type": "execute_result",
          "data": {
            "text/plain": "[<matplotlib.lines.Line2D at 0x1a05e35d288>]"
          },
          "metadata": {},
          "execution_count": 130
        }
      ]
    },
    {
      "cell_type": "markdown",
      "metadata": {},
      "source": [
        "By zooming in a little you can see that the predictions are actually quite noisy on the lower levels."
      ]
    },
    {
      "cell_type": "code",
      "execution_count": 131,
      "metadata": {},
      "outputs": [
        {
          "output_type": "execute_result",
          "data": {
            "text/plain": "[<matplotlib.lines.Line2D at 0x1a05e6bfa08>]"
          },
          "metadata": {},
          "execution_count": 131
        },
        {
          "output_type": "display_data",
          "data": {
            "text/plain": "<Figure size 432x288 with 2 Axes>",
            "image/svg+xml": "<?xml version=\"1.0\" encoding=\"utf-8\" standalone=\"no\"?>\r\n<!DOCTYPE svg PUBLIC \"-//W3C//DTD SVG 1.1//EN\"\r\n  \"http://www.w3.org/Graphics/SVG/1.1/DTD/svg11.dtd\">\r\n<!-- Created with matplotlib (https://matplotlib.org/) -->\r\n<svg height=\"248.518125pt\" version=\"1.1\" viewBox=\"0 0 382.338068 248.518125\" width=\"382.338068pt\" xmlns=\"http://www.w3.org/2000/svg\" xmlns:xlink=\"http://www.w3.org/1999/xlink\">\r\n <defs>\r\n  <style type=\"text/css\">\r\n*{stroke-linecap:butt;stroke-linejoin:round;}\r\n  </style>\r\n </defs>\r\n <g id=\"figure_1\">\r\n  <g id=\"patch_1\">\r\n   <path d=\"M -0 248.518125 \r\nL 382.338068 248.518125 \r\nL 382.338068 0 \r\nL -0 0 \r\nz\r\n\" style=\"fill:none;\"/>\r\n  </g>\r\n  <g id=\"axes_1\">\r\n   <g id=\"patch_2\">\r\n    <path d=\"M 39.65 106.036364 \r\nL 374.45 106.036364 \r\nL 374.45 7.2 \r\nL 39.65 7.2 \r\nz\r\n\" style=\"fill:#ffffff;\"/>\r\n   </g>\r\n   <g id=\"matplotlib.axis_1\">\r\n    <g id=\"xtick_1\">\r\n     <g id=\"line2d_1\">\r\n      <defs>\r\n       <path d=\"M 0 0 \r\nL 0 3.5 \r\n\" id=\"md4ac5a35c9\" style=\"stroke:#000000;stroke-width:0.8;\"/>\r\n      </defs>\r\n      <g>\r\n       <use style=\"stroke:#000000;stroke-width:0.8;\" x=\"54.868182\" xlink:href=\"#md4ac5a35c9\" y=\"106.036364\"/>\r\n      </g>\r\n     </g>\r\n    </g>\r\n    <g id=\"xtick_2\">\r\n     <g id=\"line2d_2\">\r\n      <g>\r\n       <use style=\"stroke:#000000;stroke-width:0.8;\" x=\"115.740909\" xlink:href=\"#md4ac5a35c9\" y=\"106.036364\"/>\r\n      </g>\r\n     </g>\r\n    </g>\r\n    <g id=\"xtick_3\">\r\n     <g id=\"line2d_3\">\r\n      <g>\r\n       <use style=\"stroke:#000000;stroke-width:0.8;\" x=\"176.613636\" xlink:href=\"#md4ac5a35c9\" y=\"106.036364\"/>\r\n      </g>\r\n     </g>\r\n    </g>\r\n    <g id=\"xtick_4\">\r\n     <g id=\"line2d_4\">\r\n      <g>\r\n       <use style=\"stroke:#000000;stroke-width:0.8;\" x=\"237.486364\" xlink:href=\"#md4ac5a35c9\" y=\"106.036364\"/>\r\n      </g>\r\n     </g>\r\n    </g>\r\n    <g id=\"xtick_5\">\r\n     <g id=\"line2d_5\">\r\n      <g>\r\n       <use style=\"stroke:#000000;stroke-width:0.8;\" x=\"298.359091\" xlink:href=\"#md4ac5a35c9\" y=\"106.036364\"/>\r\n      </g>\r\n     </g>\r\n    </g>\r\n    <g id=\"xtick_6\">\r\n     <g id=\"line2d_6\">\r\n      <g>\r\n       <use style=\"stroke:#000000;stroke-width:0.8;\" x=\"359.231818\" xlink:href=\"#md4ac5a35c9\" y=\"106.036364\"/>\r\n      </g>\r\n     </g>\r\n    </g>\r\n   </g>\r\n   <g id=\"matplotlib.axis_2\">\r\n    <g id=\"ytick_1\">\r\n     <g id=\"line2d_7\">\r\n      <defs>\r\n       <path d=\"M 0 0 \r\nL -3.5 0 \r\n\" id=\"m2346615aaf\" style=\"stroke:#000000;stroke-width:0.8;\"/>\r\n      </defs>\r\n      <g>\r\n       <use style=\"stroke:#000000;stroke-width:0.8;\" x=\"39.65\" xlink:href=\"#m2346615aaf\" y=\"98.31408\"/>\r\n      </g>\r\n     </g>\r\n     <g id=\"text_1\">\r\n      <!-- 7650 -->\r\n      <defs>\r\n       <path d=\"M 8.203125 72.90625 \r\nL 55.078125 72.90625 \r\nL 55.078125 68.703125 \r\nL 28.609375 0 \r\nL 18.3125 0 \r\nL 43.21875 64.59375 \r\nL 8.203125 64.59375 \r\nz\r\n\" id=\"DejaVuSans-55\"/>\r\n       <path d=\"M 33.015625 40.375 \r\nQ 26.375 40.375 22.484375 35.828125 \r\nQ 18.609375 31.296875 18.609375 23.390625 \r\nQ 18.609375 15.53125 22.484375 10.953125 \r\nQ 26.375 6.390625 33.015625 6.390625 \r\nQ 39.65625 6.390625 43.53125 10.953125 \r\nQ 47.40625 15.53125 47.40625 23.390625 \r\nQ 47.40625 31.296875 43.53125 35.828125 \r\nQ 39.65625 40.375 33.015625 40.375 \r\nz\r\nM 52.59375 71.296875 \r\nL 52.59375 62.3125 \r\nQ 48.875 64.0625 45.09375 64.984375 \r\nQ 41.3125 65.921875 37.59375 65.921875 \r\nQ 27.828125 65.921875 22.671875 59.328125 \r\nQ 17.53125 52.734375 16.796875 39.40625 \r\nQ 19.671875 43.65625 24.015625 45.921875 \r\nQ 28.375 48.1875 33.59375 48.1875 \r\nQ 44.578125 48.1875 50.953125 41.515625 \r\nQ 57.328125 34.859375 57.328125 23.390625 \r\nQ 57.328125 12.15625 50.6875 5.359375 \r\nQ 44.046875 -1.421875 33.015625 -1.421875 \r\nQ 20.359375 -1.421875 13.671875 8.265625 \r\nQ 6.984375 17.96875 6.984375 36.375 \r\nQ 6.984375 53.65625 15.1875 63.9375 \r\nQ 23.390625 74.21875 37.203125 74.21875 \r\nQ 40.921875 74.21875 44.703125 73.484375 \r\nQ 48.484375 72.75 52.59375 71.296875 \r\nz\r\n\" id=\"DejaVuSans-54\"/>\r\n       <path d=\"M 10.796875 72.90625 \r\nL 49.515625 72.90625 \r\nL 49.515625 64.59375 \r\nL 19.828125 64.59375 \r\nL 19.828125 46.734375 \r\nQ 21.96875 47.46875 24.109375 47.828125 \r\nQ 26.265625 48.1875 28.421875 48.1875 \r\nQ 40.625 48.1875 47.75 41.5 \r\nQ 54.890625 34.8125 54.890625 23.390625 \r\nQ 54.890625 11.625 47.5625 5.09375 \r\nQ 40.234375 -1.421875 26.90625 -1.421875 \r\nQ 22.3125 -1.421875 17.546875 -0.640625 \r\nQ 12.796875 0.140625 7.71875 1.703125 \r\nL 7.71875 11.625 \r\nQ 12.109375 9.234375 16.796875 8.0625 \r\nQ 21.484375 6.890625 26.703125 6.890625 \r\nQ 35.15625 6.890625 40.078125 11.328125 \r\nQ 45.015625 15.765625 45.015625 23.390625 \r\nQ 45.015625 31 40.078125 35.4375 \r\nQ 35.15625 39.890625 26.703125 39.890625 \r\nQ 22.75 39.890625 18.8125 39.015625 \r\nQ 14.890625 38.140625 10.796875 36.28125 \r\nz\r\n\" id=\"DejaVuSans-53\"/>\r\n       <path d=\"M 31.78125 66.40625 \r\nQ 24.171875 66.40625 20.328125 58.90625 \r\nQ 16.5 51.421875 16.5 36.375 \r\nQ 16.5 21.390625 20.328125 13.890625 \r\nQ 24.171875 6.390625 31.78125 6.390625 \r\nQ 39.453125 6.390625 43.28125 13.890625 \r\nQ 47.125 21.390625 47.125 36.375 \r\nQ 47.125 51.421875 43.28125 58.90625 \r\nQ 39.453125 66.40625 31.78125 66.40625 \r\nz\r\nM 31.78125 74.21875 \r\nQ 44.046875 74.21875 50.515625 64.515625 \r\nQ 56.984375 54.828125 56.984375 36.375 \r\nQ 56.984375 17.96875 50.515625 8.265625 \r\nQ 44.046875 -1.421875 31.78125 -1.421875 \r\nQ 19.53125 -1.421875 13.0625 8.265625 \r\nQ 6.59375 17.96875 6.59375 36.375 \r\nQ 6.59375 54.828125 13.0625 64.515625 \r\nQ 19.53125 74.21875 31.78125 74.21875 \r\nz\r\n\" id=\"DejaVuSans-48\"/>\r\n      </defs>\r\n      <g transform=\"translate(7.2 102.113299)scale(0.1 -0.1)\">\r\n       <use xlink:href=\"#DejaVuSans-55\"/>\r\n       <use x=\"63.623047\" xlink:href=\"#DejaVuSans-54\"/>\r\n       <use x=\"127.246094\" xlink:href=\"#DejaVuSans-53\"/>\r\n       <use x=\"190.869141\" xlink:href=\"#DejaVuSans-48\"/>\r\n      </g>\r\n     </g>\r\n    </g>\r\n    <g id=\"ytick_2\">\r\n     <g id=\"line2d_8\">\r\n      <g>\r\n       <use style=\"stroke:#000000;stroke-width:0.8;\" x=\"39.65\" xlink:href=\"#m2346615aaf\" y=\"49.080524\"/>\r\n      </g>\r\n     </g>\r\n     <g id=\"text_2\">\r\n      <!-- 7700 -->\r\n      <g transform=\"translate(7.2 52.879743)scale(0.1 -0.1)\">\r\n       <use xlink:href=\"#DejaVuSans-55\"/>\r\n       <use x=\"63.623047\" xlink:href=\"#DejaVuSans-55\"/>\r\n       <use x=\"127.246094\" xlink:href=\"#DejaVuSans-48\"/>\r\n       <use x=\"190.869141\" xlink:href=\"#DejaVuSans-48\"/>\r\n      </g>\r\n     </g>\r\n    </g>\r\n   </g>\r\n   <g id=\"line2d_9\">\r\n    <path clip-path=\"url(#p9a4028aa16)\" d=\"M 54.868182 16.389443 \r\nL 56.085636 11.692562 \r\nL 57.303091 15.424466 \r\nL 57.911818 21.765748 \r\nL 58.520545 23.666163 \r\nL 59.129273 27.979022 \r\nL 60.346727 21.007551 \r\nL 60.955455 15.286612 \r\nL 61.564182 12.037197 \r\nL 62.172909 15.178298 \r\nL 62.781636 17.068866 \r\nL 63.390364 21.509733 \r\nL 63.999091 17.009786 \r\nL 64.607818 20.515215 \r\nL 65.216545 19.914566 \r\nL 65.825273 26.836804 \r\nL 66.434 26.029373 \r\nL 67.042727 31.917707 \r\nL 67.651455 25.221943 \r\nL 68.260182 25.182556 \r\nL 68.868909 13.159722 \r\nL 69.477636 16.931012 \r\nL 70.086364 13.760371 \r\nL 70.695091 26.935271 \r\nL 71.303818 29.377255 \r\nL 71.912545 36.043479 \r\nL 72.521273 34.418771 \r\nL 73.13 42.906636 \r\nL 73.738727 36.171486 \r\nL 74.347455 40.74036 \r\nL 74.956182 39.233813 \r\nL 75.564909 38.219602 \r\nL 76.173636 50.744619 \r\nL 77.391091 42.847556 \r\nL 77.999818 33.089465 \r\nL 78.608545 34.00521 \r\nL 79.217273 30.460394 \r\nL 79.826 34.290764 \r\nL 80.434727 34.517239 \r\nL 81.043455 31.445065 \r\nL 81.652182 33.611341 \r\nL 82.260909 33.995363 \r\nL 82.869636 33.985516 \r\nL 83.478364 32.390349 \r\nL 84.087091 29.160628 \r\nL 84.695818 29.140934 \r\nL 85.304545 27.801782 \r\nL 85.913273 32.173721 \r\nL 86.522 34.418771 \r\nL 87.130727 27.791935 \r\nL 87.739455 32.114641 \r\nL 88.348182 26.521709 \r\nL 88.956909 37.89466 \r\nL 89.565636 45.732643 \r\nL 90.174364 47.564131 \r\nL 90.783091 54.880237 \r\nL 91.391818 45.161533 \r\nL 92.000545 42.493075 \r\nL 92.609273 40.622199 \r\nL 93.218 45.506168 \r\nL 93.826727 45.880343 \r\nL 94.435455 48.460182 \r\nL 95.044182 57.154828 \r\nL 95.652909 52.605647 \r\nL 96.261636 54.00388 \r\nL 96.870364 57.568389 \r\nL 97.479091 49.080524 \r\nL 98.087818 47.189956 \r\nL 98.696545 51.670209 \r\nL 99.914 46.106818 \r\nL 100.522727 45.122146 \r\nL 101.740182 44.885825 \r\nL 102.348909 43.182344 \r\nL 102.957636 48.1057 \r\nL 103.566364 49.651634 \r\nL 104.175091 39.578448 \r\nL 105.392545 38.347609 \r\nL 106.001273 43.034644 \r\nL 106.61 38.180215 \r\nL 107.218727 36.476734 \r\nL 107.827455 36.358574 \r\nL 108.436182 39.568601 \r\nL 109.044909 47.071795 \r\nL 109.653636 47.554284 \r\nL 110.262364 46.028044 \r\nL 110.871091 47.623211 \r\nL 111.479818 52.073925 \r\nL 112.088545 48.972211 \r\nL 112.697273 52.950282 \r\nL 113.306 54.771923 \r\nL 113.914727 54.190968 \r\nL 114.523455 60.916271 \r\nL 115.132182 72.151369 \r\nL 115.740909 61.684315 \r\nL 116.349636 67.100006 \r\nL 116.958364 66.292576 \r\nL 117.567091 80.580154 \r\nL 118.175818 83.366773 \r\nL 118.784545 70.477428 \r\nL 119.393273 78.610811 \r\nL 120.002 84.440064 \r\nL 120.610727 66.706137 \r\nL 121.219455 67.562801 \r\nL 121.828182 73.2542 \r\nL 122.436909 65.14051 \r\nL 123.045636 79.388701 \r\nL 123.654364 88.841544 \r\nL 124.263091 77.990468 \r\nL 125.480545 66.971999 \r\nL 126.089273 77.320892 \r\nL 126.698 58.52352 \r\nL 127.306727 56.642799 \r\nL 127.915455 56.16031 \r\nL 128.524182 48.666963 \r\nL 129.132909 49.159298 \r\nL 129.741636 64.717102 \r\nL 130.350364 60.778417 \r\nL 130.959091 68.242224 \r\nL 131.567818 61.211673 \r\nL 132.176545 64.096759 \r\nL 132.785273 54.72269 \r\nL 133.394 62.95454 \r\nL 134.611455 50.764312 \r\nL 135.220182 54.69315 \r\nL 135.828909 55.874755 \r\nL 136.437636 52.487486 \r\nL 137.046364 47.071795 \r\nL 137.655091 43.428512 \r\nL 138.263818 32.557743 \r\nL 138.872545 42.286294 \r\nL 139.481273 44.600271 \r\nL 140.09 40.060937 \r\nL 140.698727 46.805934 \r\nL 141.307455 42.256754 \r\nL 141.916182 54.220508 \r\nL 142.524909 49.48424 \r\nL 143.133636 54.122041 \r\nL 143.742364 57.007127 \r\nL 144.351091 53.048749 \r\nL 144.959818 63.978598 \r\nL 145.568545 54.102347 \r\nL 146.177273 53.964493 \r\nL 146.786 54.210661 \r\nL 147.394727 52.034538 \r\nL 148.612182 63.259789 \r\nL 149.220909 62.462205 \r\nL 149.829636 60.748877 \r\nL 150.438364 58.533367 \r\nL 151.047091 60.640563 \r\nL 151.655818 64.480781 \r\nL 152.264545 62.08803 \r\nL 152.873273 57.263141 \r\nL 153.482 51.276341 \r\nL 154.090727 54.791617 \r\nL 154.699455 52.979822 \r\nL 155.308182 58.927236 \r\nL 155.916909 66.48951 \r\nL 156.525636 53.37369 \r\nL 157.134364 59.616505 \r\nL 157.743091 63.269635 \r\nL 158.351818 64.145993 \r\nL 158.960545 70.95007 \r\nL 159.569273 76.483922 \r\nL 160.178 74.317645 \r\nL 160.786727 65.88886 \r\nL 161.395455 67.395407 \r\nL 162.004182 62.255424 \r\nL 162.612909 68.64594 \r\nL 163.830364 77.389819 \r\nL 164.439091 73.746536 \r\nL 165.047818 75.725725 \r\nL 165.656545 78.541884 \r\nL 166.265273 85.473969 \r\nL 166.874 77.921541 \r\nL 167.482727 77.143651 \r\nL 168.091455 79.713643 \r\nL 168.700182 81.791299 \r\nL 169.308909 88.546143 \r\nL 169.917636 101.543802 \r\nL 170.526364 87.689479 \r\nL 171.135091 93.607352 \r\nL 171.743818 82.391948 \r\nL 172.352545 65.238977 \r\nL 172.961273 68.409618 \r\nL 173.57 66.036561 \r\nL 174.178727 65.898707 \r\nL 174.787455 69.197355 \r\nL 175.396182 75.46971 \r\nL 176.004909 62.216037 \r\nL 176.613636 74.248718 \r\nL 177.222364 64.530014 \r\nL 177.831091 65.376831 \r\nL 178.439818 73.598835 \r\nL 179.048545 80.137052 \r\nL 179.657273 69.473063 \r\nL 180.266 77.015644 \r\nL 180.874727 73.598835 \r\nL 181.483455 76.395301 \r\nL 182.092182 81.328504 \r\nL 182.700909 82.972904 \r\nL 183.309636 82.874437 \r\nL 183.918364 71.235625 \r\nL 184.527091 79.418242 \r\nL 185.135818 72.899719 \r\nL 185.744545 74.00255 \r\nL 186.353273 74.672127 \r\nL 186.962 66.814451 \r\nL 187.570727 67.651422 \r\nL 188.179455 62.097877 \r\nL 189.396909 59.81344 \r\nL 190.005636 66.322116 \r\nL 190.614364 59.695279 \r\nL 191.223091 70.969763 \r\nL 191.831818 63.61427 \r\nL 192.440545 68.773947 \r\nL 193.049273 63.446876 \r\nL 193.658 66.932612 \r\nL 194.266727 67.346174 \r\nL 194.875455 68.370232 \r\nL 195.484182 62.540979 \r\nL 196.092909 66.57813 \r\nL 196.701636 58.927236 \r\nL 197.310364 59.12417 \r\nL 197.919091 59.646046 \r\nL 198.527818 55.983069 \r\nL 199.136545 59.980834 \r\nL 199.745273 54.00388 \r\nL 200.354 63.978598 \r\nL 200.962727 56.170156 \r\nL 201.571455 51.906531 \r\nL 202.180182 58.592447 \r\nL 202.788909 47.071795 \r\nL 203.397636 47.071795 \r\nL 204.006364 50.764312 \r\nL 204.615091 53.678939 \r\nL 205.223818 41.163769 \r\nL 205.832545 48.01708 \r\nL 206.441273 45.122146 \r\nL 207.05 49.769794 \r\nL 208.267455 48.342021 \r\nL 208.876182 50.459064 \r\nL 209.484909 49.139605 \r\nL 210.093636 57.942564 \r\nL 210.702364 61.093512 \r\nL 211.311091 55.244566 \r\nL 211.919818 56.396631 \r\nL 212.528545 55.835368 \r\nL 213.137273 57.243448 \r\nL 213.746 66.184262 \r\nL 214.354727 59.006009 \r\nL 214.963455 74.238872 \r\nL 215.572182 71.373479 \r\nL 216.180909 67.434794 \r\nL 216.789636 72.702785 \r\nL 217.398364 73.815463 \r\nL 218.007091 81.082336 \r\nL 218.615818 72.023361 \r\nL 219.833273 76.001433 \r\nL 220.442 73.500368 \r\nL 221.050727 74.711514 \r\nL 221.659455 75.666645 \r\nL 222.268182 74.888754 \r\nL 222.876909 77.271659 \r\nL 223.485636 69.069348 \r\nL 224.094364 67.740042 \r\nL 224.703091 66.903072 \r\nL 225.311818 66.834145 \r\nL 225.920545 63.850591 \r\nL 226.529273 62.324351 \r\nL 227.138 54.870391 \r\nL 227.746727 58.927236 \r\nL 228.355455 55.077172 \r\nL 228.964182 56.239083 \r\nL 229.572909 58.169039 \r\nL 230.181636 50.065196 \r\nL 230.790364 54.417442 \r\nL 231.399091 51.404348 \r\nL 232.007818 60.53225 \r\nL 232.616545 54.141734 \r\nL 233.225273 55.618741 \r\nL 233.834 52.704114 \r\nL 234.442727 63.850591 \r\nL 235.051455 56.061843 \r\nL 235.660182 58.050878 \r\nL 236.268909 56.101229 \r\nL 237.486364 58.415207 \r\nL 238.095091 60.020221 \r\nL 238.703818 53.91526 \r\nL 239.312545 61.063972 \r\nL 239.921273 59.134017 \r\nL 240.53 62.08803 \r\nL 241.138727 54.949164 \r\nL 241.747455 57.332068 \r\nL 242.356182 58.041032 \r\nL 242.964909 62.629599 \r\nL 243.573636 64.825416 \r\nL 244.182364 68.04529 \r\nL 244.791091 63.535496 \r\nL 245.399818 66.784911 \r\nL 246.008545 66.725831 \r\nL 246.617273 80.284752 \r\nL 247.226 74.672127 \r\nL 247.834727 79.506862 \r\nL 248.443455 70.428194 \r\nL 249.052182 73.145887 \r\nL 249.660909 74.72136 \r\nL 250.269636 76.90733 \r\nL 250.878364 70.349421 \r\nL 251.487091 79.585636 \r\nL 252.095818 82.815357 \r\nL 252.704545 79.014526 \r\nL 253.313273 77.173191 \r\nL 253.922 76.552849 \r\nL 254.530727 79.329621 \r\nL 255.139455 70.664515 \r\nL 255.748182 73.667762 \r\nL 256.356909 71.343938 \r\nL 256.965636 75.607564 \r\nL 257.574364 71.343938 \r\nL 258.183091 73.323127 \r\nL 258.791818 76.080206 \r\nL 259.400545 70.034326 \r\nL 260.009273 73.441288 \r\nL 260.618 67.454487 \r\nL 261.226727 74.317645 \r\nL 261.835455 69.029961 \r\nL 262.444182 70.694055 \r\nL 263.052909 68.606553 \r\nL 264.270364 71.777194 \r\nL 264.879091 72.712631 \r\nL 265.487818 73.88439 \r\nL 266.096545 71.993821 \r\nL 266.705273 72.486157 \r\nL 267.314 78.886519 \r\nL 267.922727 73.894237 \r\nL 268.531455 79.516709 \r\nL 269.140182 78.088936 \r\nL 269.748909 77.468593 \r\nL 270.357636 80.402913 \r\nL 270.966364 75.479557 \r\nL 271.575091 81.860226 \r\nL 272.183818 85.375502 \r\nL 272.792545 83.120605 \r\nL 274.01 93.459652 \r\nL 274.618727 93.193791 \r\nL 275.227455 89.245259 \r\nL 276.444909 85.119487 \r\nL 277.053636 90.94874 \r\nL 277.662364 74.57366 \r\nL 278.271091 81.751912 \r\nL 278.879818 76.641469 \r\nL 279.488545 77.734454 \r\nL 280.097273 78.384337 \r\nL 280.706 79.398548 \r\nL 281.314727 72.102135 \r\nL 281.923455 70.851603 \r\nL 282.532182 72.102135 \r\nL 283.140909 67.011385 \r\nL 283.749636 69.39429 \r\nL 284.358364 74.583506 \r\nL 284.967091 75.824192 \r\nL 285.575818 75.095535 \r\nL 286.184545 75.243236 \r\nL 286.793273 83.445546 \r\nL 288.010727 71.225778 \r\nL 288.619455 70.29034 \r\nL 289.228182 75.745418 \r\nL 289.836909 76.700549 \r\nL 290.445636 75.952199 \r\nL 291.054364 72.525544 \r\nL 291.663091 75.578024 \r\nL 292.271818 67.996057 \r\nL 292.880545 72.338456 \r\nL 293.489273 66.213802 \r\nL 294.098 72.210449 \r\nL 294.706727 73.549602 \r\nL 295.315455 75.863579 \r\nL 295.924182 74.435806 \r\nL 296.532909 75.282623 \r\nL 297.141636 75.282623 \r\nL 297.750364 75.804499 \r\nL 298.967818 70.388807 \r\nL 299.576545 65.819933 \r\nL 300.185273 58.4349 \r\nL 300.794 58.287199 \r\nL 301.402727 62.540979 \r\nL 302.011455 55.510427 \r\nL 302.620182 56.593565 \r\nL 303.228909 54.81131 \r\nL 303.837636 62.89546 \r\nL 304.446364 58.080418 \r\nL 305.055091 61.487381 \r\nL 305.663818 63.358256 \r\nL 306.272545 61.694161 \r\nL 306.881273 58.572754 \r\nL 307.49 51.059713 \r\nL 308.098727 54.0925 \r\nL 308.707455 56.229237 \r\nL 309.316182 49.563013 \r\nL 309.924909 51.374808 \r\nL 310.533636 54.00388 \r\nL 311.142364 57.450229 \r\nL 311.751091 49.563013 \r\nL 312.359818 55.096865 \r\nL 312.968545 53.058596 \r\nL 313.577273 55.480887 \r\nL 314.186 56.957893 \r\nL 314.794727 52.881355 \r\nL 315.403455 55.480887 \r\nL 316.012182 51.571742 \r\nL 316.620909 52.940435 \r\nL 317.229636 51.020327 \r\nL 317.838364 42.109053 \r\nL 318.447091 45.17138 \r\nL 319.664545 33.778735 \r\nL 320.273273 31.799546 \r\nL 320.882 35.206508 \r\nL 321.490727 24.552367 \r\nL 322.099455 27.437453 \r\nL 322.708182 34.143064 \r\nL 323.316909 34.576319 \r\nL 323.925636 31.730619 \r\nL 324.534364 27.624541 \r\nL 325.143091 25.566578 \r\nL 325.751818 26.088454 \r\nL 326.360545 22.750419 \r\nL 326.969273 18.270165 \r\nL 327.578 20.062267 \r\nL 328.186727 23.282141 \r\nL 328.795455 24.6016 \r\nL 329.404182 34.458158 \r\nL 330.012909 28.658445 \r\nL 330.621636 31.641999 \r\nL 331.230364 29.63327 \r\nL 331.839091 38.042361 \r\nL 333.056545 27.663928 \r\nL 333.665273 28.97354 \r\nL 334.274 23.636623 \r\nL 334.882727 26.058914 \r\nL 335.491455 31.356444 \r\nL 336.100182 26.846651 \r\nL 336.708909 32.794064 \r\nL 337.317636 33.266706 \r\nL 337.926364 43.024797 \r\nL 338.535091 40.05109 \r\nL 339.143818 36.2798 \r\nL 339.752545 43.536826 \r\nL 340.361273 40.543426 \r\nL 340.97 35.53145 \r\nL 341.578727 37.510639 \r\nL 342.187455 31.90786 \r\nL 342.796182 34.024903 \r\nL 343.404909 26.177074 \r\nL 344.013636 41.508403 \r\nL 344.622364 36.201026 \r\nL 345.231091 41.163769 \r\nL 345.839818 32.193415 \r\nL 346.448545 42.532461 \r\nL 347.057273 39.93293 \r\nL 347.666 47.859532 \r\nL 348.883455 49.070678 \r\nL 349.492182 42.010586 \r\nL 350.100909 42.847556 \r\nL 350.709636 34.655092 \r\nL 351.318364 36.880449 \r\nL 351.927091 32.931918 \r\nL 352.535818 31.385984 \r\nL 353.144545 36.004092 \r\nL 353.753273 32.59713 \r\nL 354.362 30.421007 \r\nL 354.970727 30.805028 \r\nL 356.188182 32.587283 \r\nL 356.796909 32.528203 \r\nL 357.405636 38.209755 \r\nL 358.014364 36.653975 \r\nL 358.623091 31.326904 \r\nL 359.231818 37.559872 \r\nL 359.231818 37.559872 \r\n\" style=\"fill:none;stroke:#1f77b4;stroke-linecap:square;stroke-width:1.5;\"/>\r\n   </g>\r\n   <g id=\"patch_3\">\r\n    <path d=\"M 39.65 106.036364 \r\nL 39.65 7.2 \r\n\" style=\"fill:none;stroke:#000000;stroke-linecap:square;stroke-linejoin:miter;stroke-width:0.8;\"/>\r\n   </g>\r\n   <g id=\"patch_4\">\r\n    <path d=\"M 374.45 106.036364 \r\nL 374.45 7.2 \r\n\" style=\"fill:none;stroke:#000000;stroke-linecap:square;stroke-linejoin:miter;stroke-width:0.8;\"/>\r\n   </g>\r\n   <g id=\"patch_5\">\r\n    <path d=\"M 39.65 106.036364 \r\nL 374.45 106.036364 \r\n\" style=\"fill:none;stroke:#000000;stroke-linecap:square;stroke-linejoin:miter;stroke-width:0.8;\"/>\r\n   </g>\r\n   <g id=\"patch_6\">\r\n    <path d=\"M 39.65 7.2 \r\nL 374.45 7.2 \r\n\" style=\"fill:none;stroke:#000000;stroke-linecap:square;stroke-linejoin:miter;stroke-width:0.8;\"/>\r\n   </g>\r\n  </g>\r\n  <g id=\"axes_2\">\r\n   <g id=\"patch_7\">\r\n    <path d=\"M 39.65 224.64 \r\nL 374.45 224.64 \r\nL 374.45 125.803636 \r\nL 39.65 125.803636 \r\nz\r\n\" style=\"fill:#ffffff;\"/>\r\n   </g>\r\n   <g id=\"matplotlib.axis_3\">\r\n    <g id=\"xtick_7\">\r\n     <g id=\"line2d_10\">\r\n      <g>\r\n       <use style=\"stroke:#000000;stroke-width:0.8;\" x=\"54.868182\" xlink:href=\"#md4ac5a35c9\" y=\"224.64\"/>\r\n      </g>\r\n     </g>\r\n     <g id=\"text_3\">\r\n      <!-- 50500 -->\r\n      <g transform=\"translate(38.961932 239.238437)scale(0.1 -0.1)\">\r\n       <use xlink:href=\"#DejaVuSans-53\"/>\r\n       <use x=\"63.623047\" xlink:href=\"#DejaVuSans-48\"/>\r\n       <use x=\"127.246094\" xlink:href=\"#DejaVuSans-53\"/>\r\n       <use x=\"190.869141\" xlink:href=\"#DejaVuSans-48\"/>\r\n       <use x=\"254.492188\" xlink:href=\"#DejaVuSans-48\"/>\r\n      </g>\r\n     </g>\r\n    </g>\r\n    <g id=\"xtick_8\">\r\n     <g id=\"line2d_11\">\r\n      <g>\r\n       <use style=\"stroke:#000000;stroke-width:0.8;\" x=\"115.740909\" xlink:href=\"#md4ac5a35c9\" y=\"224.64\"/>\r\n      </g>\r\n     </g>\r\n     <g id=\"text_4\">\r\n      <!-- 50600 -->\r\n      <g transform=\"translate(99.834659 239.238437)scale(0.1 -0.1)\">\r\n       <use xlink:href=\"#DejaVuSans-53\"/>\r\n       <use x=\"63.623047\" xlink:href=\"#DejaVuSans-48\"/>\r\n       <use x=\"127.246094\" xlink:href=\"#DejaVuSans-54\"/>\r\n       <use x=\"190.869141\" xlink:href=\"#DejaVuSans-48\"/>\r\n       <use x=\"254.492188\" xlink:href=\"#DejaVuSans-48\"/>\r\n      </g>\r\n     </g>\r\n    </g>\r\n    <g id=\"xtick_9\">\r\n     <g id=\"line2d_12\">\r\n      <g>\r\n       <use style=\"stroke:#000000;stroke-width:0.8;\" x=\"176.613636\" xlink:href=\"#md4ac5a35c9\" y=\"224.64\"/>\r\n      </g>\r\n     </g>\r\n     <g id=\"text_5\">\r\n      <!-- 50700 -->\r\n      <g transform=\"translate(160.707386 239.238437)scale(0.1 -0.1)\">\r\n       <use xlink:href=\"#DejaVuSans-53\"/>\r\n       <use x=\"63.623047\" xlink:href=\"#DejaVuSans-48\"/>\r\n       <use x=\"127.246094\" xlink:href=\"#DejaVuSans-55\"/>\r\n       <use x=\"190.869141\" xlink:href=\"#DejaVuSans-48\"/>\r\n       <use x=\"254.492188\" xlink:href=\"#DejaVuSans-48\"/>\r\n      </g>\r\n     </g>\r\n    </g>\r\n    <g id=\"xtick_10\">\r\n     <g id=\"line2d_13\">\r\n      <g>\r\n       <use style=\"stroke:#000000;stroke-width:0.8;\" x=\"237.486364\" xlink:href=\"#md4ac5a35c9\" y=\"224.64\"/>\r\n      </g>\r\n     </g>\r\n     <g id=\"text_6\">\r\n      <!-- 50800 -->\r\n      <defs>\r\n       <path d=\"M 31.78125 34.625 \r\nQ 24.75 34.625 20.71875 30.859375 \r\nQ 16.703125 27.09375 16.703125 20.515625 \r\nQ 16.703125 13.921875 20.71875 10.15625 \r\nQ 24.75 6.390625 31.78125 6.390625 \r\nQ 38.8125 6.390625 42.859375 10.171875 \r\nQ 46.921875 13.96875 46.921875 20.515625 \r\nQ 46.921875 27.09375 42.890625 30.859375 \r\nQ 38.875 34.625 31.78125 34.625 \r\nz\r\nM 21.921875 38.8125 \r\nQ 15.578125 40.375 12.03125 44.71875 \r\nQ 8.5 49.078125 8.5 55.328125 \r\nQ 8.5 64.0625 14.71875 69.140625 \r\nQ 20.953125 74.21875 31.78125 74.21875 \r\nQ 42.671875 74.21875 48.875 69.140625 \r\nQ 55.078125 64.0625 55.078125 55.328125 \r\nQ 55.078125 49.078125 51.53125 44.71875 \r\nQ 48 40.375 41.703125 38.8125 \r\nQ 48.828125 37.15625 52.796875 32.3125 \r\nQ 56.78125 27.484375 56.78125 20.515625 \r\nQ 56.78125 9.90625 50.3125 4.234375 \r\nQ 43.84375 -1.421875 31.78125 -1.421875 \r\nQ 19.734375 -1.421875 13.25 4.234375 \r\nQ 6.78125 9.90625 6.78125 20.515625 \r\nQ 6.78125 27.484375 10.78125 32.3125 \r\nQ 14.796875 37.15625 21.921875 38.8125 \r\nz\r\nM 18.3125 54.390625 \r\nQ 18.3125 48.734375 21.84375 45.5625 \r\nQ 25.390625 42.390625 31.78125 42.390625 \r\nQ 38.140625 42.390625 41.71875 45.5625 \r\nQ 45.3125 48.734375 45.3125 54.390625 \r\nQ 45.3125 60.0625 41.71875 63.234375 \r\nQ 38.140625 66.40625 31.78125 66.40625 \r\nQ 25.390625 66.40625 21.84375 63.234375 \r\nQ 18.3125 60.0625 18.3125 54.390625 \r\nz\r\n\" id=\"DejaVuSans-56\"/>\r\n      </defs>\r\n      <g transform=\"translate(221.580114 239.238437)scale(0.1 -0.1)\">\r\n       <use xlink:href=\"#DejaVuSans-53\"/>\r\n       <use x=\"63.623047\" xlink:href=\"#DejaVuSans-48\"/>\r\n       <use x=\"127.246094\" xlink:href=\"#DejaVuSans-56\"/>\r\n       <use x=\"190.869141\" xlink:href=\"#DejaVuSans-48\"/>\r\n       <use x=\"254.492188\" xlink:href=\"#DejaVuSans-48\"/>\r\n      </g>\r\n     </g>\r\n    </g>\r\n    <g id=\"xtick_11\">\r\n     <g id=\"line2d_14\">\r\n      <g>\r\n       <use style=\"stroke:#000000;stroke-width:0.8;\" x=\"298.359091\" xlink:href=\"#md4ac5a35c9\" y=\"224.64\"/>\r\n      </g>\r\n     </g>\r\n     <g id=\"text_7\">\r\n      <!-- 50900 -->\r\n      <defs>\r\n       <path d=\"M 10.984375 1.515625 \r\nL 10.984375 10.5 \r\nQ 14.703125 8.734375 18.5 7.8125 \r\nQ 22.3125 6.890625 25.984375 6.890625 \r\nQ 35.75 6.890625 40.890625 13.453125 \r\nQ 46.046875 20.015625 46.78125 33.40625 \r\nQ 43.953125 29.203125 39.59375 26.953125 \r\nQ 35.25 24.703125 29.984375 24.703125 \r\nQ 19.046875 24.703125 12.671875 31.3125 \r\nQ 6.296875 37.9375 6.296875 49.421875 \r\nQ 6.296875 60.640625 12.9375 67.421875 \r\nQ 19.578125 74.21875 30.609375 74.21875 \r\nQ 43.265625 74.21875 49.921875 64.515625 \r\nQ 56.59375 54.828125 56.59375 36.375 \r\nQ 56.59375 19.140625 48.40625 8.859375 \r\nQ 40.234375 -1.421875 26.421875 -1.421875 \r\nQ 22.703125 -1.421875 18.890625 -0.6875 \r\nQ 15.09375 0.046875 10.984375 1.515625 \r\nz\r\nM 30.609375 32.421875 \r\nQ 37.25 32.421875 41.125 36.953125 \r\nQ 45.015625 41.5 45.015625 49.421875 \r\nQ 45.015625 57.28125 41.125 61.84375 \r\nQ 37.25 66.40625 30.609375 66.40625 \r\nQ 23.96875 66.40625 20.09375 61.84375 \r\nQ 16.21875 57.28125 16.21875 49.421875 \r\nQ 16.21875 41.5 20.09375 36.953125 \r\nQ 23.96875 32.421875 30.609375 32.421875 \r\nz\r\n\" id=\"DejaVuSans-57\"/>\r\n      </defs>\r\n      <g transform=\"translate(282.452841 239.238437)scale(0.1 -0.1)\">\r\n       <use xlink:href=\"#DejaVuSans-53\"/>\r\n       <use x=\"63.623047\" xlink:href=\"#DejaVuSans-48\"/>\r\n       <use x=\"127.246094\" xlink:href=\"#DejaVuSans-57\"/>\r\n       <use x=\"190.869141\" xlink:href=\"#DejaVuSans-48\"/>\r\n       <use x=\"254.492188\" xlink:href=\"#DejaVuSans-48\"/>\r\n      </g>\r\n     </g>\r\n    </g>\r\n    <g id=\"xtick_12\">\r\n     <g id=\"line2d_15\">\r\n      <g>\r\n       <use style=\"stroke:#000000;stroke-width:0.8;\" x=\"359.231818\" xlink:href=\"#md4ac5a35c9\" y=\"224.64\"/>\r\n      </g>\r\n     </g>\r\n     <g id=\"text_8\">\r\n      <!-- 51000 -->\r\n      <defs>\r\n       <path d=\"M 12.40625 8.296875 \r\nL 28.515625 8.296875 \r\nL 28.515625 63.921875 \r\nL 10.984375 60.40625 \r\nL 10.984375 69.390625 \r\nL 28.421875 72.90625 \r\nL 38.28125 72.90625 \r\nL 38.28125 8.296875 \r\nL 54.390625 8.296875 \r\nL 54.390625 0 \r\nL 12.40625 0 \r\nz\r\n\" id=\"DejaVuSans-49\"/>\r\n      </defs>\r\n      <g transform=\"translate(343.325568 239.238437)scale(0.1 -0.1)\">\r\n       <use xlink:href=\"#DejaVuSans-53\"/>\r\n       <use x=\"63.623047\" xlink:href=\"#DejaVuSans-49\"/>\r\n       <use x=\"127.246094\" xlink:href=\"#DejaVuSans-48\"/>\r\n       <use x=\"190.869141\" xlink:href=\"#DejaVuSans-48\"/>\r\n       <use x=\"254.492188\" xlink:href=\"#DejaVuSans-48\"/>\r\n      </g>\r\n     </g>\r\n    </g>\r\n   </g>\r\n   <g id=\"matplotlib.axis_4\">\r\n    <g id=\"ytick_3\">\r\n     <g id=\"line2d_16\">\r\n      <g>\r\n       <use style=\"stroke:#000000;stroke-width:0.8;\" x=\"39.65\" xlink:href=\"#m2346615aaf\" y=\"220.16857\"/>\r\n      </g>\r\n     </g>\r\n     <g id=\"text_9\">\r\n      <!-- 0.44 -->\r\n      <defs>\r\n       <path d=\"M 10.6875 12.40625 \r\nL 21 12.40625 \r\nL 21 0 \r\nL 10.6875 0 \r\nz\r\n\" id=\"DejaVuSans-46\"/>\r\n       <path d=\"M 37.796875 64.3125 \r\nL 12.890625 25.390625 \r\nL 37.796875 25.390625 \r\nz\r\nM 35.203125 72.90625 \r\nL 47.609375 72.90625 \r\nL 47.609375 25.390625 \r\nL 58.015625 25.390625 \r\nL 58.015625 17.1875 \r\nL 47.609375 17.1875 \r\nL 47.609375 0 \r\nL 37.796875 0 \r\nL 37.796875 17.1875 \r\nL 4.890625 17.1875 \r\nL 4.890625 26.703125 \r\nz\r\n\" id=\"DejaVuSans-52\"/>\r\n      </defs>\r\n      <g transform=\"translate(10.384375 223.967789)scale(0.1 -0.1)\">\r\n       <use xlink:href=\"#DejaVuSans-48\"/>\r\n       <use x=\"63.623047\" xlink:href=\"#DejaVuSans-46\"/>\r\n       <use x=\"95.410156\" xlink:href=\"#DejaVuSans-52\"/>\r\n       <use x=\"159.033203\" xlink:href=\"#DejaVuSans-52\"/>\r\n      </g>\r\n     </g>\r\n    </g>\r\n    <g id=\"ytick_4\">\r\n     <g id=\"line2d_17\">\r\n      <g>\r\n       <use style=\"stroke:#000000;stroke-width:0.8;\" x=\"39.65\" xlink:href=\"#m2346615aaf\" y=\"192.356876\"/>\r\n      </g>\r\n     </g>\r\n     <g id=\"text_10\">\r\n      <!-- 0.46 -->\r\n      <g transform=\"translate(10.384375 196.156094)scale(0.1 -0.1)\">\r\n       <use xlink:href=\"#DejaVuSans-48\"/>\r\n       <use x=\"63.623047\" xlink:href=\"#DejaVuSans-46\"/>\r\n       <use x=\"95.410156\" xlink:href=\"#DejaVuSans-52\"/>\r\n       <use x=\"159.033203\" xlink:href=\"#DejaVuSans-54\"/>\r\n      </g>\r\n     </g>\r\n    </g>\r\n    <g id=\"ytick_5\">\r\n     <g id=\"line2d_18\">\r\n      <g>\r\n       <use style=\"stroke:#000000;stroke-width:0.8;\" x=\"39.65\" xlink:href=\"#m2346615aaf\" y=\"164.545181\"/>\r\n      </g>\r\n     </g>\r\n     <g id=\"text_11\">\r\n      <!-- 0.48 -->\r\n      <g transform=\"translate(10.384375 168.3444)scale(0.1 -0.1)\">\r\n       <use xlink:href=\"#DejaVuSans-48\"/>\r\n       <use x=\"63.623047\" xlink:href=\"#DejaVuSans-46\"/>\r\n       <use x=\"95.410156\" xlink:href=\"#DejaVuSans-52\"/>\r\n       <use x=\"159.033203\" xlink:href=\"#DejaVuSans-56\"/>\r\n      </g>\r\n     </g>\r\n    </g>\r\n    <g id=\"ytick_6\">\r\n     <g id=\"line2d_19\">\r\n      <g>\r\n       <use style=\"stroke:#000000;stroke-width:0.8;\" x=\"39.65\" xlink:href=\"#m2346615aaf\" y=\"136.733486\"/>\r\n      </g>\r\n     </g>\r\n     <g id=\"text_12\">\r\n      <!-- 0.50 -->\r\n      <g transform=\"translate(10.384375 140.532705)scale(0.1 -0.1)\">\r\n       <use xlink:href=\"#DejaVuSans-48\"/>\r\n       <use x=\"63.623047\" xlink:href=\"#DejaVuSans-46\"/>\r\n       <use x=\"95.410156\" xlink:href=\"#DejaVuSans-53\"/>\r\n       <use x=\"159.033203\" xlink:href=\"#DejaVuSans-48\"/>\r\n      </g>\r\n     </g>\r\n    </g>\r\n   </g>\r\n   <g id=\"line2d_20\">\r\n    <path clip-path=\"url(#p6938c15640)\" d=\"M 54.868182 173.298092 \r\nL 55.476909 169.724409 \r\nL 56.085636 170.424789 \r\nL 56.694364 166.479532 \r\nL 57.303091 173.833945 \r\nL 57.911818 170.169005 \r\nL 58.520545 170.890273 \r\nL 59.129273 167.049202 \r\nL 59.738 174.554467 \r\nL 60.346727 171.250824 \r\nL 60.955455 172.191904 \r\nL 61.564182 168.621122 \r\nL 62.172909 176.546533 \r\nL 62.781636 172.683829 \r\nL 63.390364 173.447285 \r\nL 63.999091 169.978038 \r\nL 64.607818 176.628921 \r\nL 65.216545 172.515488 \r\nL 65.825273 172.711264 \r\nL 66.434 168.942883 \r\nL 67.042727 175.586058 \r\nL 67.651455 171.526004 \r\nL 68.260182 172.120789 \r\nL 68.868909 168.154395 \r\nL 69.477636 175.122729 \r\nL 70.086364 170.621725 \r\nL 70.695091 171.722691 \r\nL 71.303818 167.867529 \r\nL 71.912545 175.924727 \r\nL 72.521273 171.510421 \r\nL 73.13 172.20442 \r\nL 73.738727 168.303754 \r\nL 74.347455 175.523977 \r\nL 74.956182 170.965699 \r\nL 75.564909 171.742086 \r\nL 76.173636 167.824014 \r\nL 76.782364 175.109633 \r\nL 77.391091 171.043363 \r\nL 77.999818 172.454982 \r\nL 78.608545 168.079715 \r\nL 79.217273 176.453038 \r\nL 79.826 171.77209 \r\nL 80.434727 173.903071 \r\nL 81.043455 169.605468 \r\nL 81.652182 177.982769 \r\nL 82.260909 172.769283 \r\nL 82.869636 174.429725 \r\nL 83.478364 169.912392 \r\nL 84.087091 178.627285 \r\nL 84.695818 173.353625 \r\nL 85.304545 174.99923 \r\nL 85.913273 170.512565 \r\nL 86.522 178.82621 \r\nL 87.130727 173.664776 \r\nL 87.739455 174.96591 \r\nL 88.348182 170.527319 \r\nL 88.956909 179.379055 \r\nL 89.565636 174.374026 \r\nL 90.174364 175.712209 \r\nL 90.783091 171.271629 \r\nL 91.391818 180.334971 \r\nL 92.000545 174.973038 \r\nL 92.609273 176.706004 \r\nL 93.218 171.800023 \r\nL 93.826727 181.119232 \r\nL 94.435455 174.977845 \r\nL 95.044182 176.99834 \r\nL 95.652909 171.627787 \r\nL 96.261636 180.619517 \r\nL 96.870364 174.437267 \r\nL 97.479091 176.02535 \r\nL 98.087818 170.844686 \r\nL 98.696545 179.410552 \r\nL 99.305273 173.884588 \r\nL 99.914 176.043999 \r\nL 100.522727 171.391315 \r\nL 101.131455 180.362738 \r\nL 101.740182 174.819037 \r\nL 102.348909 177.321925 \r\nL 102.957636 172.403013 \r\nL 103.566364 181.132577 \r\nL 104.175091 175.473748 \r\nL 104.783818 177.886954 \r\nL 105.392545 172.758508 \r\nL 106.001273 181.669508 \r\nL 106.61 176.066792 \r\nL 107.218727 179.102053 \r\nL 107.827455 174.240332 \r\nL 108.436182 183.289584 \r\nL 109.044909 177.517948 \r\nL 109.653636 180.550308 \r\nL 110.262364 175.757299 \r\nL 110.871091 184.517116 \r\nL 111.479818 178.897823 \r\nL 112.088545 181.460637 \r\nL 112.697273 175.756138 \r\nL 113.306 184.294983 \r\nL 113.914727 178.297982 \r\nL 114.523455 181.006425 \r\nL 115.132182 175.31237 \r\nL 115.740909 184.79818 \r\nL 116.349636 178.830935 \r\nL 116.958364 182.168643 \r\nL 117.567091 176.107655 \r\nL 118.175818 185.431341 \r\nL 118.784545 181.192171 \r\nL 119.393273 185.01824 \r\nL 120.002 180.08557 \r\nL 120.610727 188.448449 \r\nL 121.219455 182.369889 \r\nL 121.828182 183.481215 \r\nL 122.436909 177.230751 \r\nL 123.045636 185.282147 \r\nL 123.654364 178.934624 \r\nL 124.263091 188.190675 \r\nL 124.871818 182.643327 \r\nL 125.480545 190.432557 \r\nL 126.089273 181.652185 \r\nL 126.698 183.918684 \r\nL 127.306727 176.692577 \r\nL 127.915455 184.571074 \r\nL 128.524182 177.182677 \r\nL 129.132909 179.279676 \r\nL 129.741636 174.60022 \r\nL 130.350364 182.569311 \r\nL 130.959091 176.120834 \r\nL 131.567818 178.742662 \r\nL 132.176545 174.041324 \r\nL 132.785273 183.045736 \r\nL 133.394 176.441103 \r\nL 134.002727 179.25307 \r\nL 134.611455 174.817214 \r\nL 135.220182 183.146358 \r\nL 135.828909 176.542057 \r\nL 136.437636 178.651654 \r\nL 137.046364 174.094951 \r\nL 137.655091 182.014808 \r\nL 138.263818 175.355637 \r\nL 138.872545 176.861331 \r\nL 139.481273 172.133553 \r\nL 140.09 179.003916 \r\nL 140.698727 172.035914 \r\nL 141.307455 173.788773 \r\nL 141.916182 169.450141 \r\nL 142.524909 177.090095 \r\nL 143.133636 170.86259 \r\nL 143.742364 173.030952 \r\nL 144.351091 168.399072 \r\nL 144.959818 176.995108 \r\nL 145.568545 169.954415 \r\nL 146.177273 172.316398 \r\nL 146.786 167.476725 \r\nL 147.394727 176.198746 \r\nL 148.003455 169.446743 \r\nL 148.612182 172.865099 \r\nL 149.220909 169.212012 \r\nL 149.829636 179.506367 \r\nL 150.438364 171.747639 \r\nL 151.047091 175.842919 \r\nL 151.655818 171.160894 \r\nL 152.264545 178.252893 \r\nL 152.873273 172.032599 \r\nL 153.482 174.706562 \r\nL 154.090727 170.967357 \r\nL 154.699455 178.923269 \r\nL 155.308182 172.873885 \r\nL 155.916909 176.774882 \r\nL 156.525636 173.748242 \r\nL 157.134364 182.132174 \r\nL 157.743091 176.173134 \r\nL 158.351818 177.737843 \r\nL 158.960545 175.549422 \r\nL 159.569273 181.497106 \r\nL 160.178 176.712386 \r\nL 160.786727 178.822315 \r\nL 161.395455 175.836371 \r\nL 162.004182 182.704662 \r\nL 162.612909 176.659588 \r\nL 163.221636 180.038822 \r\nL 163.830364 177.688858 \r\nL 164.439091 187.049676 \r\nL 165.047818 180.541605 \r\nL 165.656545 185.65397 \r\nL 166.265273 179.523441 \r\nL 166.874 187.475458 \r\nL 167.482727 180.715995 \r\nL 168.091455 183.824111 \r\nL 168.700182 180.361743 \r\nL 169.308909 188.236925 \r\nL 169.917636 181.631961 \r\nL 170.526364 188.44878 \r\nL 171.135091 186.910926 \r\nL 171.743818 196.09495 \r\nL 172.352545 188.002526 \r\nL 172.961273 190.411173 \r\nL 173.57 186.089035 \r\nL 174.178727 194.074538 \r\nL 174.787455 186.106939 \r\nL 175.396182 187.57003 \r\nL 176.004909 184.240196 \r\nL 176.613636 191.787152 \r\nL 177.222364 183.601564 \r\nL 177.831091 186.261271 \r\nL 178.439818 183.195509 \r\nL 179.048545 191.088677 \r\nL 179.657273 183.542053 \r\nL 180.266 186.556757 \r\nL 180.874727 183.647317 \r\nL 181.483455 191.532362 \r\nL 182.092182 183.530615 \r\nL 182.700909 186.362308 \r\nL 183.309636 183.902189 \r\nL 183.918364 191.996686 \r\nL 184.527091 184.134517 \r\nL 185.135818 186.763473 \r\nL 185.744545 184.288352 \r\nL 186.353273 192.845597 \r\nL 186.962 185.001166 \r\nL 187.570727 188.093202 \r\nL 188.179455 185.218657 \r\nL 188.788182 194.364222 \r\nL 189.396909 186.486636 \r\nL 190.005636 191.243922 \r\nL 190.614364 184.563283 \r\nL 191.223091 192.815261 \r\nL 191.831818 181.994667 \r\nL 192.440545 184.27882 \r\nL 193.049273 179.745906 \r\nL 193.658 188.399381 \r\nL 194.266727 179.030771 \r\nL 194.875455 182.0502 \r\nL 195.484182 178.034655 \r\nL 196.092909 187.021412 \r\nL 196.701636 177.846009 \r\nL 197.310364 181.567062 \r\nL 197.919091 177.37091 \r\nL 198.527818 186.673791 \r\nL 199.136545 177.289931 \r\nL 199.745273 181.1838 \r\nL 200.354 177.458271 \r\nL 200.962727 186.972178 \r\nL 201.571455 177.519275 \r\nL 202.180182 181.36507 \r\nL 202.788909 177.566519 \r\nL 203.397636 186.898908 \r\nL 204.006364 177.87651 \r\nL 204.615091 181.719736 \r\nL 205.223818 178.27983 \r\nL 205.832545 187.70505 \r\nL 206.441273 178.871797 \r\nL 207.05 183.103341 \r\nL 207.658727 179.792156 \r\nL 208.267455 189.377676 \r\nL 208.876182 181.000955 \r\nL 209.484909 185.201582 \r\nL 210.093636 181.623921 \r\nL 210.702364 190.858919 \r\nL 211.311091 182.490404 \r\nL 211.919818 185.696076 \r\nL 212.528545 182.121564 \r\nL 213.137273 191.534932 \r\nL 213.746 182.269432 \r\nL 214.354727 185.581363 \r\nL 214.963455 181.813397 \r\nL 215.572182 191.104011 \r\nL 216.180909 182.470014 \r\nL 216.789636 185.630265 \r\nL 217.398364 181.529515 \r\nL 218.007091 190.937246 \r\nL 218.615818 182.289822 \r\nL 219.224545 184.782183 \r\nL 219.833273 181.64688 \r\nL 220.442 190.290823 \r\nL 221.050727 180.915583 \r\nL 221.659455 183.959546 \r\nL 222.268182 180.578654 \r\nL 222.876909 189.565908 \r\nL 223.485636 180.954208 \r\nL 224.094364 183.673675 \r\nL 224.703091 181.674813 \r\nL 225.311818 191.413671 \r\nL 225.920545 183.262729 \r\nL 226.529273 185.602913 \r\nL 227.138 183.008271 \r\nL 227.746727 192.722015 \r\nL 228.355455 183.4469 \r\nL 228.964182 187.046112 \r\nL 229.572909 184.309902 \r\nL 230.181636 194.643545 \r\nL 230.790364 184.350599 \r\nL 231.399091 188.097429 \r\nL 232.007818 183.883374 \r\nL 232.616545 195.364896 \r\nL 233.225273 185.050151 \r\nL 233.834 189.460478 \r\nL 234.442727 186.395628 \r\nL 235.051455 199.456364 \r\nL 235.660182 191.2973 \r\nL 236.268909 196.905817 \r\nL 236.877636 189.449372 \r\nL 237.486364 199.353752 \r\nL 238.095091 190.856018 \r\nL 238.703818 190.333924 \r\nL 239.312545 187.824737 \r\nL 239.921273 197.881709 \r\nL 240.53 189.665619 \r\nL 241.138727 188.492792 \r\nL 241.747455 185.958823 \r\nL 242.356182 195.09353 \r\nL 242.964909 187.012295 \r\nL 243.573636 186.251159 \r\nL 244.182364 184.229172 \r\nL 244.791091 193.423391 \r\nL 245.399818 185.896824 \r\nL 246.008545 185.249656 \r\nL 246.617273 183.306244 \r\nL 247.226 192.387407 \r\nL 247.834727 184.966271 \r\nL 248.443455 184.566847 \r\nL 249.052182 182.461145 \r\nL 249.660909 191.736592 \r\nL 250.269636 184.158554 \r\nL 250.878364 183.550839 \r\nL 251.487091 182.039259 \r\nL 252.095818 191.036045 \r\nL 252.704545 183.865223 \r\nL 253.313273 183.165836 \r\nL 253.922 182.852861 \r\nL 254.530727 190.717766 \r\nL 255.139455 184.271278 \r\nL 255.748182 182.906322 \r\nL 256.356909 182.120487 \r\nL 256.965636 190.59667 \r\nL 257.574364 183.955319 \r\nL 258.183091 182.834792 \r\nL 258.791818 181.962839 \r\nL 259.400545 190.47458 \r\nL 260.009273 182.791692 \r\nL 261.226727 180.714835 \r\nL 261.835455 189.448957 \r\nL 262.444182 182.328115 \r\nL 263.052909 181.308957 \r\nL 263.661636 180.045536 \r\nL 264.270364 188.911529 \r\nL 264.879091 181.684925 \r\nL 265.487818 180.071894 \r\nL 266.096545 179.133963 \r\nL 266.705273 187.885077 \r\nL 267.314 180.411475 \r\nL 268.531455 177.874355 \r\nL 269.140182 186.946401 \r\nL 269.748909 179.684073 \r\nL 270.357636 178.557082 \r\nL 270.966364 177.106008 \r\nL 271.575091 186.205904 \r\nL 272.183818 179.255225 \r\nL 273.401273 176.660583 \r\nL 274.01 186.138601 \r\nL 274.618727 179.746237 \r\nL 275.227455 180.261369 \r\nL 275.836182 178.501714 \r\nL 276.444909 187.896433 \r\nL 277.053636 180.537212 \r\nL 277.662364 179.993567 \r\nL 278.271091 178.088365 \r\nL 278.879818 186.629365 \r\nL 279.488545 179.725267 \r\nL 280.097273 178.865332 \r\nL 280.706 177.045751 \r\nL 281.314727 186.4224 \r\nL 281.923455 179.368197 \r\nL 282.532182 179.01809 \r\nL 283.140909 176.632568 \r\nL 283.749636 186.33479 \r\nL 284.358364 179.350708 \r\nL 284.967091 182.899609 \r\nL 285.575818 182.173782 \r\nL 286.184545 194.357757 \r\nL 286.793273 188.408001 \r\nL 287.402 198.64989 \r\nL 288.010727 203.294285 \r\nL 288.619455 220.147438 \r\nL 289.228182 142.951045 \r\nL 289.836909 141.562798 \r\nL 290.445636 142.158661 \r\nL 292.271818 138.714611 \r\nL 292.880545 139.554156 \r\nL 293.489273 138.317341 \r\nL 294.098 140.009694 \r\nL 294.706727 136.977666 \r\nL 295.315455 139.145863 \r\nL 295.924182 136.270489 \r\nL 296.532909 136.204429 \r\nL 297.141636 133.206302 \r\nL 297.750364 135.345571 \r\nL 298.359091 133.737762 \r\nL 298.967818 134.3967 \r\nL 299.576545 132.12987 \r\nL 300.185273 134.612285 \r\nL 300.794 133.145049 \r\nL 301.402727 133.876346 \r\nL 302.011455 131.269852 \r\nL 302.620182 133.767684 \r\nL 303.228909 131.932603 \r\nL 303.837636 133.063076 \r\nL 304.446364 130.530515 \r\nL 305.055091 133.557072 \r\nL 305.663818 131.868947 \r\nL 306.272545 133.679162 \r\nL 306.881273 131.899863 \r\nL 307.49 135.183614 \r\nL 308.098727 133.917458 \r\nL 308.707455 134.191974 \r\nL 309.316182 131.093389 \r\nL 309.924909 134.518376 \r\nL 310.533636 132.138324 \r\nL 311.142364 133.671537 \r\nL 311.751091 130.296198 \r\nL 312.359818 134.268974 \r\nL 312.968545 132.436463 \r\nL 313.577273 134.542744 \r\nL 314.186 131.792444 \r\nL 314.794727 135.756517 \r\nL 315.403455 134.110166 \r\nL 316.012182 135.401353 \r\nL 316.620909 132.46912 \r\nL 317.229636 136.521714 \r\nL 317.838364 134.727827 \r\nL 318.447091 136.40899 \r\nL 319.055818 133.095152 \r\nL 319.664545 136.691297 \r\nL 320.273273 135.337697 \r\nL 320.882 136.399707 \r\nL 321.490727 133.249402 \r\nL 322.099455 136.832451 \r\nL 322.708182 135.263681 \r\nL 323.316909 135.771602 \r\nL 323.925636 132.520343 \r\nL 324.534364 134.85862 \r\nL 325.143091 134.355672 \r\nL 325.751818 134.825466 \r\nL 326.360545 131.835047 \r\nL 326.969273 135.015356 \r\nL 327.578 134.462677 \r\nL 328.186727 135.935881 \r\nL 328.795455 132.147193 \r\nL 329.404182 135.45614 \r\nL 330.012909 192.580364 \r\nL 330.621636 178.45878 \r\nL 331.230364 169.464978 \r\nL 331.839091 171.203083 \r\nL 332.447818 166.826904 \r\nL 333.056545 163.524173 \r\nL 333.665273 155.747625 \r\nL 334.274 164.22704 \r\nL 334.882727 159.78646 \r\nL 335.491455 159.55032 \r\nL 336.100182 152.681697 \r\nL 336.708909 164.03226 \r\nL 337.317636 160.057909 \r\nL 337.926364 159.65749 \r\nL 338.535091 152.434865 \r\nL 339.143818 163.540999 \r\nL 339.752545 159.077459 \r\nL 340.361273 159.339708 \r\nL 340.97 152.602293 \r\nL 341.578727 163.663586 \r\nL 342.187455 158.962331 \r\nL 342.796182 159.096523 \r\nL 343.404909 152.613317 \r\nL 344.013636 163.707432 \r\nL 344.622364 159.92206 \r\nL 345.231091 158.498588 \r\nL 345.839818 151.639912 \r\nL 346.448545 162.487278 \r\nL 347.057273 157.323772 \r\nL 347.666 157.123023 \r\nL 348.274727 150.412463 \r\nL 348.883455 161.794108 \r\nL 349.492182 156.522685 \r\nL 350.100909 156.732302 \r\nL 350.709636 149.804997 \r\nL 351.318364 161.682876 \r\nL 351.927091 157.181375 \r\nL 352.535818 157.404502 \r\nL 353.144545 151.16904 \r\nL 353.753273 164.123848 \r\nL 354.362 158.776668 \r\nL 354.970727 157.698082 \r\nL 355.579455 152.171787 \r\nL 356.188182 161.770403 \r\nL 356.796909 157.725848 \r\nL 357.405636 155.94398 \r\nL 358.014364 150.877781 \r\nL 358.623091 160.598819 \r\nL 359.231818 157.133964 \r\nL 359.231818 157.133964 \r\n\" style=\"fill:none;stroke:#1f77b4;stroke-linecap:square;stroke-width:1.5;\"/>\r\n   </g>\r\n   <g id=\"patch_8\">\r\n    <path d=\"M 39.65 224.64 \r\nL 39.65 125.803636 \r\n\" style=\"fill:none;stroke:#000000;stroke-linecap:square;stroke-linejoin:miter;stroke-width:0.8;\"/>\r\n   </g>\r\n   <g id=\"patch_9\">\r\n    <path d=\"M 374.45 224.64 \r\nL 374.45 125.803636 \r\n\" style=\"fill:none;stroke:#000000;stroke-linecap:square;stroke-linejoin:miter;stroke-width:0.8;\"/>\r\n   </g>\r\n   <g id=\"patch_10\">\r\n    <path d=\"M 39.65 224.64 \r\nL 374.45 224.64 \r\n\" style=\"fill:none;stroke:#000000;stroke-linecap:square;stroke-linejoin:miter;stroke-width:0.8;\"/>\r\n   </g>\r\n   <g id=\"patch_11\">\r\n    <path d=\"M 39.65 125.803636 \r\nL 374.45 125.803636 \r\n\" style=\"fill:none;stroke:#000000;stroke-linecap:square;stroke-linejoin:miter;stroke-width:0.8;\"/>\r\n   </g>\r\n  </g>\r\n </g>\r\n <defs>\r\n  <clipPath id=\"p9a4028aa16\">\r\n   <rect height=\"98.836364\" width=\"334.8\" x=\"39.65\" y=\"7.2\"/>\r\n  </clipPath>\r\n  <clipPath id=\"p6938c15640\">\r\n   <rect height=\"98.836364\" width=\"334.8\" x=\"39.65\" y=\"125.803636\"/>\r\n  </clipPath>\r\n </defs>\r\n</svg>\r\n",
            "image/png": "[encoded data removed]"
          },
          "metadata": {
            "needs_background": "light"
          }
        }
      ],
      "source": [
        "%matplotlib inline\n",
        "fig, (ax1,ax2) = plt.subplots(2,1,sharex=True)\n",
        "ax1.plot(test_df.loc[50500:51000,'Close'])\n",
        "ax2.plot(test_df.loc[50500:51000,'preds'])"
      ]
    },
    {
      "cell_type": "markdown",
      "metadata": {},
      "source": [
        "## Backtesting"
      ]
    },
    {
      "cell_type": "markdown",
      "metadata": {},
      "source": [
        "The predictions seem to oscilate between 0.525 and 0.450. Closer to 0 means 'buy!' and closer to 1 means 'sell!'.\n",
        "\n",
        "What to do with this info, that is the question. Buy everytime we cross below 0.4?\n",
        "I am by no means a trader so this is a learning experience for me as well.\n",
        "\n",
        "Let's do some further analysis."
      ]
    },
    {
      "cell_type": "code",
      "execution_count": 133,
      "metadata": {},
      "outputs": [
        {
          "output_type": "execute_result",
          "data": {
            "text/plain": "(array([ 12.,  11.,   7.,  14.,  41.,  71., 238., 467., 528., 570., 783.,\n        674., 501., 560., 342., 437., 307., 368., 158., 105.]),\n array([0.4083401 , 0.4152604 , 0.4221807 , 0.42910102, 0.43602133,\n        0.44294164, 0.44986194, 0.45678225, 0.46370256, 0.47062287,\n        0.47754318, 0.48446348, 0.4913838 , 0.4983041 , 0.5052244 ,\n        0.5121447 , 0.519065  , 0.52598536, 0.53290564, 0.5398259 ,\n        0.54674625], dtype=float32),\n <a list of 20 Patch objects>)"
          },
          "metadata": {},
          "execution_count": 133
        },
        {
          "output_type": "display_data",
          "data": {
            "text/plain": "<Figure size 432x288 with 1 Axes>",
            "image/svg+xml": "<?xml version=\"1.0\" encoding=\"utf-8\" standalone=\"no\"?>\r\n<!DOCTYPE svg PUBLIC \"-//W3C//DTD SVG 1.1//EN\"\r\n  \"http://www.w3.org/Graphics/SVG/1.1/DTD/svg11.dtd\">\r\n<!-- Created with matplotlib (https://matplotlib.org/) -->\r\n<svg height=\"248.518125pt\" version=\"1.1\" viewBox=\"0 0 375.2875 248.518125\" width=\"375.2875pt\" xmlns=\"http://www.w3.org/2000/svg\" xmlns:xlink=\"http://www.w3.org/1999/xlink\">\r\n <defs>\r\n  <style type=\"text/css\">\r\n*{stroke-linecap:butt;stroke-linejoin:round;}\r\n  </style>\r\n </defs>\r\n <g id=\"figure_1\">\r\n  <g id=\"patch_1\">\r\n   <path d=\"M 0 248.518125 \r\nL 375.2875 248.518125 \r\nL 375.2875 0 \r\nL 0 0 \r\nz\r\n\" style=\"fill:none;\"/>\r\n  </g>\r\n  <g id=\"axes_1\">\r\n   <g id=\"patch_2\">\r\n    <path d=\"M 33.2875 224.64 \r\nL 368.0875 224.64 \r\nL 368.0875 7.2 \r\nL 33.2875 7.2 \r\nz\r\n\" style=\"fill:#ffffff;\"/>\r\n   </g>\r\n   <g id=\"patch_3\">\r\n    <path clip-path=\"url(#pb0fb8b4ff2)\" d=\"M 48.505682 224.64 \r\nL 63.723864 224.64 \r\nL 63.723864 221.466273 \r\nL 48.505682 221.466273 \r\nz\r\n\" style=\"fill:#1f77b4;\"/>\r\n   </g>\r\n   <g id=\"patch_4\">\r\n    <path clip-path=\"url(#pb0fb8b4ff2)\" d=\"M 63.723798 224.64 \r\nL 78.94198 224.64 \r\nL 78.94198 221.73075 \r\nL 63.723798 221.73075 \r\nz\r\n\" style=\"fill:#1f77b4;\"/>\r\n   </g>\r\n   <g id=\"patch_5\">\r\n    <path clip-path=\"url(#pb0fb8b4ff2)\" d=\"M 78.942045 224.64 \r\nL 94.160227 224.64 \r\nL 94.160227 222.788659 \r\nL 78.942045 222.788659 \r\nz\r\n\" style=\"fill:#1f77b4;\"/>\r\n   </g>\r\n   <g id=\"patch_6\">\r\n    <path clip-path=\"url(#pb0fb8b4ff2)\" d=\"M 94.160162 224.64 \r\nL 109.378344 224.64 \r\nL 109.378344 220.937318 \r\nL 94.160162 220.937318 \r\nz\r\n\" style=\"fill:#1f77b4;\"/>\r\n   </g>\r\n   <g id=\"patch_7\">\r\n    <path clip-path=\"url(#pb0fb8b4ff2)\" d=\"M 109.378409 224.64 \r\nL 124.596591 224.64 \r\nL 124.596591 213.796431 \r\nL 109.378409 213.796431 \r\nz\r\n\" style=\"fill:#1f77b4;\"/>\r\n   </g>\r\n   <g id=\"patch_8\">\r\n    <path clip-path=\"url(#pb0fb8b4ff2)\" d=\"M 124.596525 224.64 \r\nL 139.814707 224.64 \r\nL 139.814707 205.862113 \r\nL 124.596525 205.862113 \r\nz\r\n\" style=\"fill:#1f77b4;\"/>\r\n   </g>\r\n   <g id=\"patch_9\">\r\n    <path clip-path=\"url(#pb0fb8b4ff2)\" d=\"M 139.814773 224.64 \r\nL 155.032955 224.64 \r\nL 155.032955 161.694406 \r\nL 139.814773 161.694406 \r\nz\r\n\" style=\"fill:#1f77b4;\"/>\r\n   </g>\r\n   <g id=\"patch_10\">\r\n    <path clip-path=\"url(#pb0fb8b4ff2)\" d=\"M 155.032889 224.64 \r\nL 170.251071 224.64 \r\nL 170.251071 101.129108 \r\nL 155.032889 101.129108 \r\nz\r\n\" style=\"fill:#1f77b4;\"/>\r\n   </g>\r\n   <g id=\"patch_11\">\r\n    <path clip-path=\"url(#pb0fb8b4ff2)\" d=\"M 170.251136 224.64 \r\nL 185.469318 224.64 \r\nL 185.469318 84.995993 \r\nL 170.251136 84.995993 \r\nz\r\n\" style=\"fill:#1f77b4;\"/>\r\n   </g>\r\n   <g id=\"patch_12\">\r\n    <path clip-path=\"url(#pb0fb8b4ff2)\" d=\"M 185.469253 224.64 \r\nL 200.687434 224.64 \r\nL 200.687434 73.887947 \r\nL 185.469253 73.887947 \r\nz\r\n\" style=\"fill:#1f77b4;\"/>\r\n   </g>\r\n   <g id=\"patch_13\">\r\n    <path clip-path=\"url(#pb0fb8b4ff2)\" d=\"M 200.6875 224.64 \r\nL 215.905682 224.64 \r\nL 215.905682 17.554286 \r\nL 200.6875 17.554286 \r\nz\r\n\" style=\"fill:#1f77b4;\"/>\r\n   </g>\r\n   <g id=\"patch_14\">\r\n    <path clip-path=\"url(#pb0fb8b4ff2)\" d=\"M 215.905616 224.64 \r\nL 231.123798 224.64 \r\nL 231.123798 46.38231 \r\nL 215.905616 46.38231 \r\nz\r\n\" style=\"fill:#1f77b4;\"/>\r\n   </g>\r\n   <g id=\"patch_15\">\r\n    <path clip-path=\"url(#pb0fb8b4ff2)\" d=\"M 231.123864 224.64 \r\nL 246.342045 224.64 \r\nL 246.342045 92.13688 \r\nL 231.123864 92.13688 \r\nz\r\n\" style=\"fill:#1f77b4;\"/>\r\n   </g>\r\n   <g id=\"patch_16\">\r\n    <path clip-path=\"url(#pb0fb8b4ff2)\" d=\"M 246.34198 224.64 \r\nL 261.560096 224.64 \r\nL 261.560096 76.53272 \r\nL 246.34198 76.53272 \r\nz\r\n\" style=\"fill:#1f77b4;\"/>\r\n   </g>\r\n   <g id=\"patch_17\">\r\n    <path clip-path=\"url(#pb0fb8b4ff2)\" d=\"M 261.560096 224.64 \r\nL 276.778212 224.64 \r\nL 276.778212 134.188768 \r\nL 261.560096 134.188768 \r\nz\r\n\" style=\"fill:#1f77b4;\"/>\r\n   </g>\r\n   <g id=\"patch_18\">\r\n    <path clip-path=\"url(#pb0fb8b4ff2)\" d=\"M 276.778344 224.64 \r\nL 291.996591 224.64 \r\nL 291.996591 109.063426 \r\nL 276.778344 109.063426 \r\nz\r\n\" style=\"fill:#1f77b4;\"/>\r\n   </g>\r\n   <g id=\"patch_19\">\r\n    <path clip-path=\"url(#pb0fb8b4ff2)\" d=\"M 291.996591 224.64 \r\nL 307.214838 224.64 \r\nL 307.214838 143.445473 \r\nL 291.996591 143.445473 \r\nz\r\n\" style=\"fill:#1f77b4;\"/>\r\n   </g>\r\n   <g id=\"patch_20\">\r\n    <path clip-path=\"url(#pb0fb8b4ff2)\" d=\"M 307.214838 224.64 \r\nL 322.432955 224.64 \r\nL 322.432955 127.312359 \r\nL 307.214838 127.312359 \r\nz\r\n\" style=\"fill:#1f77b4;\"/>\r\n   </g>\r\n   <g id=\"patch_21\">\r\n    <path clip-path=\"url(#pb0fb8b4ff2)\" d=\"M 322.432823 224.64 \r\nL 337.65094 224.64 \r\nL 337.65094 182.852589 \r\nL 322.432823 182.852589 \r\nz\r\n\" style=\"fill:#1f77b4;\"/>\r\n   </g>\r\n   <g id=\"patch_22\">\r\n    <path clip-path=\"url(#pb0fb8b4ff2)\" d=\"M 337.651071 224.64 \r\nL 352.869318 224.64 \r\nL 352.869318 196.869885 \r\nL 337.651071 196.869885 \r\nz\r\n\" style=\"fill:#1f77b4;\"/>\r\n   </g>\r\n   <g id=\"matplotlib.axis_1\">\r\n    <g id=\"xtick_1\">\r\n     <g id=\"line2d_1\">\r\n      <defs>\r\n       <path d=\"M 0 0 \r\nL 0 3.5 \r\n\" id=\"me5f3c0051f\" style=\"stroke:#000000;stroke-width:0.8;\"/>\r\n      </defs>\r\n      <g>\r\n       <use style=\"stroke:#000000;stroke-width:0.8;\" x=\"74.146525\" xlink:href=\"#me5f3c0051f\" y=\"224.64\"/>\r\n      </g>\r\n     </g>\r\n     <g id=\"text_1\">\r\n      <!-- 0.42 -->\r\n      <defs>\r\n       <path d=\"M 31.78125 66.40625 \r\nQ 24.171875 66.40625 20.328125 58.90625 \r\nQ 16.5 51.421875 16.5 36.375 \r\nQ 16.5 21.390625 20.328125 13.890625 \r\nQ 24.171875 6.390625 31.78125 6.390625 \r\nQ 39.453125 6.390625 43.28125 13.890625 \r\nQ 47.125 21.390625 47.125 36.375 \r\nQ 47.125 51.421875 43.28125 58.90625 \r\nQ 39.453125 66.40625 31.78125 66.40625 \r\nz\r\nM 31.78125 74.21875 \r\nQ 44.046875 74.21875 50.515625 64.515625 \r\nQ 56.984375 54.828125 56.984375 36.375 \r\nQ 56.984375 17.96875 50.515625 8.265625 \r\nQ 44.046875 -1.421875 31.78125 -1.421875 \r\nQ 19.53125 -1.421875 13.0625 8.265625 \r\nQ 6.59375 17.96875 6.59375 36.375 \r\nQ 6.59375 54.828125 13.0625 64.515625 \r\nQ 19.53125 74.21875 31.78125 74.21875 \r\nz\r\n\" id=\"DejaVuSans-48\"/>\r\n       <path d=\"M 10.6875 12.40625 \r\nL 21 12.40625 \r\nL 21 0 \r\nL 10.6875 0 \r\nz\r\n\" id=\"DejaVuSans-46\"/>\r\n       <path d=\"M 37.796875 64.3125 \r\nL 12.890625 25.390625 \r\nL 37.796875 25.390625 \r\nz\r\nM 35.203125 72.90625 \r\nL 47.609375 72.90625 \r\nL 47.609375 25.390625 \r\nL 58.015625 25.390625 \r\nL 58.015625 17.1875 \r\nL 47.609375 17.1875 \r\nL 47.609375 0 \r\nL 37.796875 0 \r\nL 37.796875 17.1875 \r\nL 4.890625 17.1875 \r\nL 4.890625 26.703125 \r\nz\r\n\" id=\"DejaVuSans-52\"/>\r\n       <path d=\"M 19.1875 8.296875 \r\nL 53.609375 8.296875 \r\nL 53.609375 0 \r\nL 7.328125 0 \r\nL 7.328125 8.296875 \r\nQ 12.9375 14.109375 22.625 23.890625 \r\nQ 32.328125 33.6875 34.8125 36.53125 \r\nQ 39.546875 41.84375 41.421875 45.53125 \r\nQ 43.3125 49.21875 43.3125 52.78125 \r\nQ 43.3125 58.59375 39.234375 62.25 \r\nQ 35.15625 65.921875 28.609375 65.921875 \r\nQ 23.96875 65.921875 18.8125 64.3125 \r\nQ 13.671875 62.703125 7.8125 59.421875 \r\nL 7.8125 69.390625 \r\nQ 13.765625 71.78125 18.9375 73 \r\nQ 24.125 74.21875 28.421875 74.21875 \r\nQ 39.75 74.21875 46.484375 68.546875 \r\nQ 53.21875 62.890625 53.21875 53.421875 \r\nQ 53.21875 48.921875 51.53125 44.890625 \r\nQ 49.859375 40.875 45.40625 35.40625 \r\nQ 44.1875 33.984375 37.640625 27.21875 \r\nQ 31.109375 20.453125 19.1875 8.296875 \r\nz\r\n\" id=\"DejaVuSans-50\"/>\r\n      </defs>\r\n      <g transform=\"translate(63.013713 239.238437)scale(0.1 -0.1)\">\r\n       <use xlink:href=\"#DejaVuSans-48\"/>\r\n       <use x=\"63.623047\" xlink:href=\"#DejaVuSans-46\"/>\r\n       <use x=\"95.410156\" xlink:href=\"#DejaVuSans-52\"/>\r\n       <use x=\"159.033203\" xlink:href=\"#DejaVuSans-50\"/>\r\n      </g>\r\n     </g>\r\n    </g>\r\n    <g id=\"xtick_2\">\r\n     <g id=\"line2d_2\">\r\n      <g>\r\n       <use style=\"stroke:#000000;stroke-width:0.8;\" x=\"118.127753\" xlink:href=\"#me5f3c0051f\" y=\"224.64\"/>\r\n      </g>\r\n     </g>\r\n     <g id=\"text_2\">\r\n      <!-- 0.44 -->\r\n      <g transform=\"translate(106.994941 239.238437)scale(0.1 -0.1)\">\r\n       <use xlink:href=\"#DejaVuSans-48\"/>\r\n       <use x=\"63.623047\" xlink:href=\"#DejaVuSans-46\"/>\r\n       <use x=\"95.410156\" xlink:href=\"#DejaVuSans-52\"/>\r\n       <use x=\"159.033203\" xlink:href=\"#DejaVuSans-52\"/>\r\n      </g>\r\n     </g>\r\n    </g>\r\n    <g id=\"xtick_3\">\r\n     <g id=\"line2d_3\">\r\n      <g>\r\n       <use style=\"stroke:#000000;stroke-width:0.8;\" x=\"162.108981\" xlink:href=\"#me5f3c0051f\" y=\"224.64\"/>\r\n      </g>\r\n     </g>\r\n     <g id=\"text_3\">\r\n      <!-- 0.46 -->\r\n      <defs>\r\n       <path d=\"M 33.015625 40.375 \r\nQ 26.375 40.375 22.484375 35.828125 \r\nQ 18.609375 31.296875 18.609375 23.390625 \r\nQ 18.609375 15.53125 22.484375 10.953125 \r\nQ 26.375 6.390625 33.015625 6.390625 \r\nQ 39.65625 6.390625 43.53125 10.953125 \r\nQ 47.40625 15.53125 47.40625 23.390625 \r\nQ 47.40625 31.296875 43.53125 35.828125 \r\nQ 39.65625 40.375 33.015625 40.375 \r\nz\r\nM 52.59375 71.296875 \r\nL 52.59375 62.3125 \r\nQ 48.875 64.0625 45.09375 64.984375 \r\nQ 41.3125 65.921875 37.59375 65.921875 \r\nQ 27.828125 65.921875 22.671875 59.328125 \r\nQ 17.53125 52.734375 16.796875 39.40625 \r\nQ 19.671875 43.65625 24.015625 45.921875 \r\nQ 28.375 48.1875 33.59375 48.1875 \r\nQ 44.578125 48.1875 50.953125 41.515625 \r\nQ 57.328125 34.859375 57.328125 23.390625 \r\nQ 57.328125 12.15625 50.6875 5.359375 \r\nQ 44.046875 -1.421875 33.015625 -1.421875 \r\nQ 20.359375 -1.421875 13.671875 8.265625 \r\nQ 6.984375 17.96875 6.984375 36.375 \r\nQ 6.984375 53.65625 15.1875 63.9375 \r\nQ 23.390625 74.21875 37.203125 74.21875 \r\nQ 40.921875 74.21875 44.703125 73.484375 \r\nQ 48.484375 72.75 52.59375 71.296875 \r\nz\r\n\" id=\"DejaVuSans-54\"/>\r\n      </defs>\r\n      <g transform=\"translate(150.976168 239.238437)scale(0.1 -0.1)\">\r\n       <use xlink:href=\"#DejaVuSans-48\"/>\r\n       <use x=\"63.623047\" xlink:href=\"#DejaVuSans-46\"/>\r\n       <use x=\"95.410156\" xlink:href=\"#DejaVuSans-52\"/>\r\n       <use x=\"159.033203\" xlink:href=\"#DejaVuSans-54\"/>\r\n      </g>\r\n     </g>\r\n    </g>\r\n    <g id=\"xtick_4\">\r\n     <g id=\"line2d_4\">\r\n      <g>\r\n       <use style=\"stroke:#000000;stroke-width:0.8;\" x=\"206.090209\" xlink:href=\"#me5f3c0051f\" y=\"224.64\"/>\r\n      </g>\r\n     </g>\r\n     <g id=\"text_4\">\r\n      <!-- 0.48 -->\r\n      <defs>\r\n       <path d=\"M 31.78125 34.625 \r\nQ 24.75 34.625 20.71875 30.859375 \r\nQ 16.703125 27.09375 16.703125 20.515625 \r\nQ 16.703125 13.921875 20.71875 10.15625 \r\nQ 24.75 6.390625 31.78125 6.390625 \r\nQ 38.8125 6.390625 42.859375 10.171875 \r\nQ 46.921875 13.96875 46.921875 20.515625 \r\nQ 46.921875 27.09375 42.890625 30.859375 \r\nQ 38.875 34.625 31.78125 34.625 \r\nz\r\nM 21.921875 38.8125 \r\nQ 15.578125 40.375 12.03125 44.71875 \r\nQ 8.5 49.078125 8.5 55.328125 \r\nQ 8.5 64.0625 14.71875 69.140625 \r\nQ 20.953125 74.21875 31.78125 74.21875 \r\nQ 42.671875 74.21875 48.875 69.140625 \r\nQ 55.078125 64.0625 55.078125 55.328125 \r\nQ 55.078125 49.078125 51.53125 44.71875 \r\nQ 48 40.375 41.703125 38.8125 \r\nQ 48.828125 37.15625 52.796875 32.3125 \r\nQ 56.78125 27.484375 56.78125 20.515625 \r\nQ 56.78125 9.90625 50.3125 4.234375 \r\nQ 43.84375 -1.421875 31.78125 -1.421875 \r\nQ 19.734375 -1.421875 13.25 4.234375 \r\nQ 6.78125 9.90625 6.78125 20.515625 \r\nQ 6.78125 27.484375 10.78125 32.3125 \r\nQ 14.796875 37.15625 21.921875 38.8125 \r\nz\r\nM 18.3125 54.390625 \r\nQ 18.3125 48.734375 21.84375 45.5625 \r\nQ 25.390625 42.390625 31.78125 42.390625 \r\nQ 38.140625 42.390625 41.71875 45.5625 \r\nQ 45.3125 48.734375 45.3125 54.390625 \r\nQ 45.3125 60.0625 41.71875 63.234375 \r\nQ 38.140625 66.40625 31.78125 66.40625 \r\nQ 25.390625 66.40625 21.84375 63.234375 \r\nQ 18.3125 60.0625 18.3125 54.390625 \r\nz\r\n\" id=\"DejaVuSans-56\"/>\r\n      </defs>\r\n      <g transform=\"translate(194.957396 239.238437)scale(0.1 -0.1)\">\r\n       <use xlink:href=\"#DejaVuSans-48\"/>\r\n       <use x=\"63.623047\" xlink:href=\"#DejaVuSans-46\"/>\r\n       <use x=\"95.410156\" xlink:href=\"#DejaVuSans-52\"/>\r\n       <use x=\"159.033203\" xlink:href=\"#DejaVuSans-56\"/>\r\n      </g>\r\n     </g>\r\n    </g>\r\n    <g id=\"xtick_5\">\r\n     <g id=\"line2d_5\">\r\n      <g>\r\n       <use style=\"stroke:#000000;stroke-width:0.8;\" x=\"250.071436\" xlink:href=\"#me5f3c0051f\" y=\"224.64\"/>\r\n      </g>\r\n     </g>\r\n     <g id=\"text_5\">\r\n      <!-- 0.50 -->\r\n      <defs>\r\n       <path d=\"M 10.796875 72.90625 \r\nL 49.515625 72.90625 \r\nL 49.515625 64.59375 \r\nL 19.828125 64.59375 \r\nL 19.828125 46.734375 \r\nQ 21.96875 47.46875 24.109375 47.828125 \r\nQ 26.265625 48.1875 28.421875 48.1875 \r\nQ 40.625 48.1875 47.75 41.5 \r\nQ 54.890625 34.8125 54.890625 23.390625 \r\nQ 54.890625 11.625 47.5625 5.09375 \r\nQ 40.234375 -1.421875 26.90625 -1.421875 \r\nQ 22.3125 -1.421875 17.546875 -0.640625 \r\nQ 12.796875 0.140625 7.71875 1.703125 \r\nL 7.71875 11.625 \r\nQ 12.109375 9.234375 16.796875 8.0625 \r\nQ 21.484375 6.890625 26.703125 6.890625 \r\nQ 35.15625 6.890625 40.078125 11.328125 \r\nQ 45.015625 15.765625 45.015625 23.390625 \r\nQ 45.015625 31 40.078125 35.4375 \r\nQ 35.15625 39.890625 26.703125 39.890625 \r\nQ 22.75 39.890625 18.8125 39.015625 \r\nQ 14.890625 38.140625 10.796875 36.28125 \r\nz\r\n\" id=\"DejaVuSans-53\"/>\r\n      </defs>\r\n      <g transform=\"translate(238.938624 239.238437)scale(0.1 -0.1)\">\r\n       <use xlink:href=\"#DejaVuSans-48\"/>\r\n       <use x=\"63.623047\" xlink:href=\"#DejaVuSans-46\"/>\r\n       <use x=\"95.410156\" xlink:href=\"#DejaVuSans-53\"/>\r\n       <use x=\"159.033203\" xlink:href=\"#DejaVuSans-48\"/>\r\n      </g>\r\n     </g>\r\n    </g>\r\n    <g id=\"xtick_6\">\r\n     <g id=\"line2d_6\">\r\n      <g>\r\n       <use style=\"stroke:#000000;stroke-width:0.8;\" x=\"294.052664\" xlink:href=\"#me5f3c0051f\" y=\"224.64\"/>\r\n      </g>\r\n     </g>\r\n     <g id=\"text_6\">\r\n      <!-- 0.52 -->\r\n      <g transform=\"translate(282.919851 239.238437)scale(0.1 -0.1)\">\r\n       <use xlink:href=\"#DejaVuSans-48\"/>\r\n       <use x=\"63.623047\" xlink:href=\"#DejaVuSans-46\"/>\r\n       <use x=\"95.410156\" xlink:href=\"#DejaVuSans-53\"/>\r\n       <use x=\"159.033203\" xlink:href=\"#DejaVuSans-50\"/>\r\n      </g>\r\n     </g>\r\n    </g>\r\n    <g id=\"xtick_7\">\r\n     <g id=\"line2d_7\">\r\n      <g>\r\n       <use style=\"stroke:#000000;stroke-width:0.8;\" x=\"338.033892\" xlink:href=\"#me5f3c0051f\" y=\"224.64\"/>\r\n      </g>\r\n     </g>\r\n     <g id=\"text_7\">\r\n      <!-- 0.54 -->\r\n      <g transform=\"translate(326.901079 239.238437)scale(0.1 -0.1)\">\r\n       <use xlink:href=\"#DejaVuSans-48\"/>\r\n       <use x=\"63.623047\" xlink:href=\"#DejaVuSans-46\"/>\r\n       <use x=\"95.410156\" xlink:href=\"#DejaVuSans-53\"/>\r\n       <use x=\"159.033203\" xlink:href=\"#DejaVuSans-52\"/>\r\n      </g>\r\n     </g>\r\n    </g>\r\n   </g>\r\n   <g id=\"matplotlib.axis_2\">\r\n    <g id=\"ytick_1\">\r\n     <g id=\"line2d_8\">\r\n      <defs>\r\n       <path d=\"M 0 0 \r\nL -3.5 0 \r\n\" id=\"m30f624b714\" style=\"stroke:#000000;stroke-width:0.8;\"/>\r\n      </defs>\r\n      <g>\r\n       <use style=\"stroke:#000000;stroke-width:0.8;\" x=\"33.2875\" xlink:href=\"#m30f624b714\" y=\"224.64\"/>\r\n      </g>\r\n     </g>\r\n     <g id=\"text_8\">\r\n      <!-- 0 -->\r\n      <g transform=\"translate(19.925 228.439219)scale(0.1 -0.1)\">\r\n       <use xlink:href=\"#DejaVuSans-48\"/>\r\n      </g>\r\n     </g>\r\n    </g>\r\n    <g id=\"ytick_2\">\r\n     <g id=\"line2d_9\">\r\n      <g>\r\n       <use style=\"stroke:#000000;stroke-width:0.8;\" x=\"33.2875\" xlink:href=\"#m30f624b714\" y=\"198.192271\"/>\r\n      </g>\r\n     </g>\r\n     <g id=\"text_9\">\r\n      <!-- 100 -->\r\n      <defs>\r\n       <path d=\"M 12.40625 8.296875 \r\nL 28.515625 8.296875 \r\nL 28.515625 63.921875 \r\nL 10.984375 60.40625 \r\nL 10.984375 69.390625 \r\nL 28.421875 72.90625 \r\nL 38.28125 72.90625 \r\nL 38.28125 8.296875 \r\nL 54.390625 8.296875 \r\nL 54.390625 0 \r\nL 12.40625 0 \r\nz\r\n\" id=\"DejaVuSans-49\"/>\r\n      </defs>\r\n      <g transform=\"translate(7.2 201.99149)scale(0.1 -0.1)\">\r\n       <use xlink:href=\"#DejaVuSans-49\"/>\r\n       <use x=\"63.623047\" xlink:href=\"#DejaVuSans-48\"/>\r\n       <use x=\"127.246094\" xlink:href=\"#DejaVuSans-48\"/>\r\n      </g>\r\n     </g>\r\n    </g>\r\n    <g id=\"ytick_3\">\r\n     <g id=\"line2d_10\">\r\n      <g>\r\n       <use style=\"stroke:#000000;stroke-width:0.8;\" x=\"33.2875\" xlink:href=\"#m30f624b714\" y=\"171.744543\"/>\r\n      </g>\r\n     </g>\r\n     <g id=\"text_10\">\r\n      <!-- 200 -->\r\n      <g transform=\"translate(7.2 175.543762)scale(0.1 -0.1)\">\r\n       <use xlink:href=\"#DejaVuSans-50\"/>\r\n       <use x=\"63.623047\" xlink:href=\"#DejaVuSans-48\"/>\r\n       <use x=\"127.246094\" xlink:href=\"#DejaVuSans-48\"/>\r\n      </g>\r\n     </g>\r\n    </g>\r\n    <g id=\"ytick_4\">\r\n     <g id=\"line2d_11\">\r\n      <g>\r\n       <use style=\"stroke:#000000;stroke-width:0.8;\" x=\"33.2875\" xlink:href=\"#m30f624b714\" y=\"145.296814\"/>\r\n      </g>\r\n     </g>\r\n     <g id=\"text_11\">\r\n      <!-- 300 -->\r\n      <defs>\r\n       <path d=\"M 40.578125 39.3125 \r\nQ 47.65625 37.796875 51.625 33 \r\nQ 55.609375 28.21875 55.609375 21.1875 \r\nQ 55.609375 10.40625 48.1875 4.484375 \r\nQ 40.765625 -1.421875 27.09375 -1.421875 \r\nQ 22.515625 -1.421875 17.65625 -0.515625 \r\nQ 12.796875 0.390625 7.625 2.203125 \r\nL 7.625 11.71875 \r\nQ 11.71875 9.328125 16.59375 8.109375 \r\nQ 21.484375 6.890625 26.8125 6.890625 \r\nQ 36.078125 6.890625 40.9375 10.546875 \r\nQ 45.796875 14.203125 45.796875 21.1875 \r\nQ 45.796875 27.640625 41.28125 31.265625 \r\nQ 36.765625 34.90625 28.71875 34.90625 \r\nL 20.21875 34.90625 \r\nL 20.21875 43.015625 \r\nL 29.109375 43.015625 \r\nQ 36.375 43.015625 40.234375 45.921875 \r\nQ 44.09375 48.828125 44.09375 54.296875 \r\nQ 44.09375 59.90625 40.109375 62.90625 \r\nQ 36.140625 65.921875 28.71875 65.921875 \r\nQ 24.65625 65.921875 20.015625 65.03125 \r\nQ 15.375 64.15625 9.8125 62.3125 \r\nL 9.8125 71.09375 \r\nQ 15.4375 72.65625 20.34375 73.4375 \r\nQ 25.25 74.21875 29.59375 74.21875 \r\nQ 40.828125 74.21875 47.359375 69.109375 \r\nQ 53.90625 64.015625 53.90625 55.328125 \r\nQ 53.90625 49.265625 50.4375 45.09375 \r\nQ 46.96875 40.921875 40.578125 39.3125 \r\nz\r\n\" id=\"DejaVuSans-51\"/>\r\n      </defs>\r\n      <g transform=\"translate(7.2 149.096033)scale(0.1 -0.1)\">\r\n       <use xlink:href=\"#DejaVuSans-51\"/>\r\n       <use x=\"63.623047\" xlink:href=\"#DejaVuSans-48\"/>\r\n       <use x=\"127.246094\" xlink:href=\"#DejaVuSans-48\"/>\r\n      </g>\r\n     </g>\r\n    </g>\r\n    <g id=\"ytick_5\">\r\n     <g id=\"line2d_12\">\r\n      <g>\r\n       <use style=\"stroke:#000000;stroke-width:0.8;\" x=\"33.2875\" xlink:href=\"#m30f624b714\" y=\"118.849086\"/>\r\n      </g>\r\n     </g>\r\n     <g id=\"text_12\">\r\n      <!-- 400 -->\r\n      <g transform=\"translate(7.2 122.648305)scale(0.1 -0.1)\">\r\n       <use xlink:href=\"#DejaVuSans-52\"/>\r\n       <use x=\"63.623047\" xlink:href=\"#DejaVuSans-48\"/>\r\n       <use x=\"127.246094\" xlink:href=\"#DejaVuSans-48\"/>\r\n      </g>\r\n     </g>\r\n    </g>\r\n    <g id=\"ytick_6\">\r\n     <g id=\"line2d_13\">\r\n      <g>\r\n       <use style=\"stroke:#000000;stroke-width:0.8;\" x=\"33.2875\" xlink:href=\"#m30f624b714\" y=\"92.401357\"/>\r\n      </g>\r\n     </g>\r\n     <g id=\"text_13\">\r\n      <!-- 500 -->\r\n      <g transform=\"translate(7.2 96.200576)scale(0.1 -0.1)\">\r\n       <use xlink:href=\"#DejaVuSans-53\"/>\r\n       <use x=\"63.623047\" xlink:href=\"#DejaVuSans-48\"/>\r\n       <use x=\"127.246094\" xlink:href=\"#DejaVuSans-48\"/>\r\n      </g>\r\n     </g>\r\n    </g>\r\n    <g id=\"ytick_7\">\r\n     <g id=\"line2d_14\">\r\n      <g>\r\n       <use style=\"stroke:#000000;stroke-width:0.8;\" x=\"33.2875\" xlink:href=\"#m30f624b714\" y=\"65.953629\"/>\r\n      </g>\r\n     </g>\r\n     <g id=\"text_14\">\r\n      <!-- 600 -->\r\n      <g transform=\"translate(7.2 69.752848)scale(0.1 -0.1)\">\r\n       <use xlink:href=\"#DejaVuSans-54\"/>\r\n       <use x=\"63.623047\" xlink:href=\"#DejaVuSans-48\"/>\r\n       <use x=\"127.246094\" xlink:href=\"#DejaVuSans-48\"/>\r\n      </g>\r\n     </g>\r\n    </g>\r\n    <g id=\"ytick_8\">\r\n     <g id=\"line2d_15\">\r\n      <g>\r\n       <use style=\"stroke:#000000;stroke-width:0.8;\" x=\"33.2875\" xlink:href=\"#m30f624b714\" y=\"39.5059\"/>\r\n      </g>\r\n     </g>\r\n     <g id=\"text_15\">\r\n      <!-- 700 -->\r\n      <defs>\r\n       <path d=\"M 8.203125 72.90625 \r\nL 55.078125 72.90625 \r\nL 55.078125 68.703125 \r\nL 28.609375 0 \r\nL 18.3125 0 \r\nL 43.21875 64.59375 \r\nL 8.203125 64.59375 \r\nz\r\n\" id=\"DejaVuSans-55\"/>\r\n      </defs>\r\n      <g transform=\"translate(7.2 43.305119)scale(0.1 -0.1)\">\r\n       <use xlink:href=\"#DejaVuSans-55\"/>\r\n       <use x=\"63.623047\" xlink:href=\"#DejaVuSans-48\"/>\r\n       <use x=\"127.246094\" xlink:href=\"#DejaVuSans-48\"/>\r\n      </g>\r\n     </g>\r\n    </g>\r\n    <g id=\"ytick_9\">\r\n     <g id=\"line2d_16\">\r\n      <g>\r\n       <use style=\"stroke:#000000;stroke-width:0.8;\" x=\"33.2875\" xlink:href=\"#m30f624b714\" y=\"13.058172\"/>\r\n      </g>\r\n     </g>\r\n     <g id=\"text_16\">\r\n      <!-- 800 -->\r\n      <g transform=\"translate(7.2 16.857391)scale(0.1 -0.1)\">\r\n       <use xlink:href=\"#DejaVuSans-56\"/>\r\n       <use x=\"63.623047\" xlink:href=\"#DejaVuSans-48\"/>\r\n       <use x=\"127.246094\" xlink:href=\"#DejaVuSans-48\"/>\r\n      </g>\r\n     </g>\r\n    </g>\r\n   </g>\r\n   <g id=\"patch_23\">\r\n    <path d=\"M 33.2875 224.64 \r\nL 33.2875 7.2 \r\n\" style=\"fill:none;stroke:#000000;stroke-linecap:square;stroke-linejoin:miter;stroke-width:0.8;\"/>\r\n   </g>\r\n   <g id=\"patch_24\">\r\n    <path d=\"M 368.0875 224.64 \r\nL 368.0875 7.2 \r\n\" style=\"fill:none;stroke:#000000;stroke-linecap:square;stroke-linejoin:miter;stroke-width:0.8;\"/>\r\n   </g>\r\n   <g id=\"patch_25\">\r\n    <path d=\"M 33.2875 224.64 \r\nL 368.0875 224.64 \r\n\" style=\"fill:none;stroke:#000000;stroke-linecap:square;stroke-linejoin:miter;stroke-width:0.8;\"/>\r\n   </g>\r\n   <g id=\"patch_26\">\r\n    <path d=\"M 33.2875 7.2 \r\nL 368.0875 7.2 \r\n\" style=\"fill:none;stroke:#000000;stroke-linecap:square;stroke-linejoin:miter;stroke-width:0.8;\"/>\r\n   </g>\r\n  </g>\r\n </g>\r\n <defs>\r\n  <clipPath id=\"pb0fb8b4ff2\">\r\n   <rect height=\"217.44\" width=\"334.8\" x=\"33.2875\" y=\"7.2\"/>\r\n  </clipPath>\r\n </defs>\r\n</svg>\r\n",
            "image/png": "[encoded data removed]"
          },
          "metadata": {
            "needs_background": "light"
          }
        }
      ],
      "source": [
        "plt.hist(test_df['preds'],  bins=20)"
      ]
    },
    {
      "cell_type": "markdown",
      "metadata": {},
      "source": [
        "looking at the above histogram lets just say we want to buy every time we cross below 0.46 and sell when we cross above 0.52"
      ]
    }
  ]
}